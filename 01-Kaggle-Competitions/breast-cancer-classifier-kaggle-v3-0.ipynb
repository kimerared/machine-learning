{
 "cells": [
  {
   "cell_type": "code",
   "execution_count": 1,
   "id": "0e826ae4",
   "metadata": {
    "_cell_guid": "b1076dfc-b9ad-4769-8c92-a6c4dae69d19",
    "_uuid": "8f2839f25d086af736a60e9eeb907d3b93b6e0e5",
    "execution": {
     "iopub.execute_input": "2023-07-17T04:32:21.167883Z",
     "iopub.status.busy": "2023-07-17T04:32:21.167484Z",
     "iopub.status.idle": "2023-07-17T04:32:21.181856Z",
     "shell.execute_reply": "2023-07-17T04:32:21.180631Z"
    },
    "papermill": {
     "duration": 0.026784,
     "end_time": "2023-07-17T04:32:21.184322",
     "exception": false,
     "start_time": "2023-07-17T04:32:21.157538",
     "status": "completed"
    },
    "tags": []
   },
   "outputs": [
    {
     "name": "stdout",
     "output_type": "stream",
     "text": [
      "/kaggle/input/breast-cancer-classification-map-6990-mini-kaggle/sample_submission.csv\n",
      "/kaggle/input/breast-cancer-classification-map-6990-mini-kaggle/train.csv\n",
      "/kaggle/input/breast-cancer-classification-map-6990-mini-kaggle/test.csv\n"
     ]
    }
   ],
   "source": [
    "# This Python 3 environment comes with many helpful analytics libraries installed\n",
    "# It is defined by the kaggle/python Docker image: https://github.com/kaggle/docker-python\n",
    "# For example, here's several helpful packages to load\n",
    "\n",
    "import numpy as np # linear algebra\n",
    "import pandas as pd # data processing, CSV file I/O (e.g. pd.read_csv)\n",
    "\n",
    "# Input data files are available in the read-only \"../input/\" directory\n",
    "# For example, running this (by clicking run or pressing Shift+Enter) will list all files under the input directory\n",
    "\n",
    "import os\n",
    "for dirname, _, filenames in os.walk('/kaggle/input'):\n",
    "    for filename in filenames:\n",
    "        print(os.path.join(dirname, filename))\n",
    "\n",
    "# You can write up to 20GB to the current directory (/kaggle/working/) that gets preserved as output when you create a version using \"Save & Run All\" \n",
    "# You can also write temporary files to /kaggle/temp/, but they won't be saved outside of the current session\n"
   ]
  },
  {
   "cell_type": "code",
   "execution_count": 2,
   "id": "3ae91195",
   "metadata": {
    "execution": {
     "iopub.execute_input": "2023-07-17T04:32:21.201837Z",
     "iopub.status.busy": "2023-07-17T04:32:21.200876Z",
     "iopub.status.idle": "2023-07-17T04:32:22.797028Z",
     "shell.execute_reply": "2023-07-17T04:32:22.796125Z"
    },
    "papermill": {
     "duration": 1.607703,
     "end_time": "2023-07-17T04:32:22.799694",
     "exception": false,
     "start_time": "2023-07-17T04:32:21.191991",
     "status": "completed"
    },
    "tags": []
   },
   "outputs": [
    {
     "name": "stderr",
     "output_type": "stream",
     "text": [
      "/opt/conda/lib/python3.10/site-packages/scipy/__init__.py:146: UserWarning: A NumPy version >=1.16.5 and <1.23.0 is required for this version of SciPy (detected version 1.23.5\n",
      "  warnings.warn(f\"A NumPy version >={np_minversion} and <{np_maxversion}\"\n"
     ]
    }
   ],
   "source": [
    "# libraries\n",
    "from sklearn.model_selection import train_test_split\n",
    "from sklearn.metrics import accuracy_score\n",
    "from sklearn.preprocessing import StandardScaler\n",
    "from sklearn.svm import SVC\n",
    "from sklearn.neighbors import KNeighborsClassifier\n",
    "from sklearn.linear_model import LogisticRegression\n",
    "from sklearn.linear_model import Perceptron\n",
    "from sklearn.tree import DecisionTreeClassifier\n",
    "from sklearn.ensemble import RandomForestClassifier\n",
    "\n",
    "# Load the training data from the specified address\n",
    "train_data = pd.read_csv('/kaggle/input/breast-cancer-classification-map-6990-mini-kaggle/train.csv')"
   ]
  },
  {
   "cell_type": "markdown",
   "id": "dc20a080",
   "metadata": {
    "papermill": {
     "duration": 0.007292,
     "end_time": "2023-07-17T04:32:22.814746",
     "exception": false,
     "start_time": "2023-07-17T04:32:22.807454",
     "status": "completed"
    },
    "tags": []
   },
   "source": [
    "## Instructions"
   ]
  },
  {
   "cell_type": "code",
   "execution_count": 3,
   "id": "bf68b03b",
   "metadata": {
    "execution": {
     "iopub.execute_input": "2023-07-17T04:32:22.832286Z",
     "iopub.status.busy": "2023-07-17T04:32:22.831390Z",
     "iopub.status.idle": "2023-07-17T04:32:22.850720Z",
     "shell.execute_reply": "2023-07-17T04:32:22.849566Z"
    },
    "papermill": {
     "duration": 0.030729,
     "end_time": "2023-07-17T04:32:22.853197",
     "exception": false,
     "start_time": "2023-07-17T04:32:22.822468",
     "status": "completed"
    },
    "tags": []
   },
   "outputs": [
    {
     "data": {
      "text/plain": [
       "((455, 33), (455, 30))"
      ]
     },
     "execution_count": 3,
     "metadata": {},
     "output_type": "execute_result"
    }
   ],
   "source": [
    "# Remove the original ID column (named '0') and the competition ID column (named 'ID') as they are non-informative features.\n",
    "# Remove the target variable column (named '1').\n",
    "# The columns for the features (X) are intentionally unnamed (columns 2 to 31). You are welcome to name them according to your preference.\n",
    "# To study the names of the features, you can refer to http://archive.ics.uci.edu/dataset/17/breast+cancer+wisconsin+diagnostic.\n",
    "# We follow the same order for the features as the original dataset in UCI.\n",
    "\n",
    "X = train_data.drop(['1','0','ID'], axis=1)\n",
    "y = train_data['1']\n",
    "\n",
    "# Preview the data\n",
    "train_data.head()\n",
    "train_data.shape, X.shape"
   ]
  },
  {
   "cell_type": "code",
   "execution_count": 4,
   "id": "03777030",
   "metadata": {
    "execution": {
     "iopub.execute_input": "2023-07-17T04:32:22.872578Z",
     "iopub.status.busy": "2023-07-17T04:32:22.872186Z",
     "iopub.status.idle": "2023-07-17T04:32:22.883057Z",
     "shell.execute_reply": "2023-07-17T04:32:22.881973Z"
    },
    "papermill": {
     "duration": 0.024476,
     "end_time": "2023-07-17T04:32:22.885536",
     "exception": false,
     "start_time": "2023-07-17T04:32:22.861060",
     "status": "completed"
    },
    "tags": []
   },
   "outputs": [
    {
     "data": {
      "text/plain": [
       "1     0\n",
       "0     0\n",
       "2     0\n",
       "3     0\n",
       "4     0\n",
       "5     0\n",
       "6     0\n",
       "7     0\n",
       "8     0\n",
       "9     0\n",
       "10    0\n",
       "11    0\n",
       "12    0\n",
       "13    0\n",
       "14    0\n",
       "15    0\n",
       "16    0\n",
       "17    0\n",
       "18    0\n",
       "19    0\n",
       "20    0\n",
       "21    0\n",
       "22    0\n",
       "23    0\n",
       "24    0\n",
       "25    0\n",
       "26    0\n",
       "27    0\n",
       "28    0\n",
       "29    0\n",
       "30    0\n",
       "31    0\n",
       "ID    0\n",
       "dtype: int64"
      ]
     },
     "execution_count": 4,
     "metadata": {},
     "output_type": "execute_result"
    }
   ],
   "source": [
    "train_data.isnull().sum()"
   ]
  },
  {
   "cell_type": "code",
   "execution_count": 5,
   "id": "67b83955",
   "metadata": {
    "execution": {
     "iopub.execute_input": "2023-07-17T04:32:22.904389Z",
     "iopub.status.busy": "2023-07-17T04:32:22.903725Z",
     "iopub.status.idle": "2023-07-17T04:32:23.329494Z",
     "shell.execute_reply": "2023-07-17T04:32:23.328032Z"
    },
    "papermill": {
     "duration": 0.440543,
     "end_time": "2023-07-17T04:32:23.334616",
     "exception": false,
     "start_time": "2023-07-17T04:32:22.894073",
     "status": "completed"
    },
    "tags": []
   },
   "outputs": [
    {
     "name": "stdout",
     "output_type": "stream",
     "text": [
      "Variance Inflation Factor (VIF) values:\n",
      "   Feature           VIF\n",
      "0        2  68824.552614\n",
      "1        3    256.801906\n",
      "2        4  63524.127628\n",
      "3        5   1393.680937\n",
      "4        6    384.436118\n",
      "5        7    201.126342\n",
      "6        8    157.908264\n",
      "7        9    164.534177\n",
      "8       10    183.229699\n",
      "9       11    635.043198\n",
      "10      12    234.785069\n",
      "11      13     25.155300\n",
      "12      14    216.368346\n",
      "13      15     69.454100\n",
      "14      16     23.642384\n",
      "15      17     41.915739\n",
      "16      18     34.250386\n",
      "17      19     56.664855\n",
      "18      20     38.833269\n",
      "19      21     26.393239\n",
      "20      22   9810.298448\n",
      "21      23    350.735285\n",
      "22      24   4931.365802\n",
      "23      25   1191.284432\n",
      "24      26    354.073564\n",
      "25      27    133.052906\n",
      "26      28     83.781954\n",
      "27      29    156.527707\n",
      "28      30    211.704124\n",
      "29      31    434.191190\n"
     ]
    }
   ],
   "source": [
    "# Checking for multicollinearity\n",
    "from statsmodels.stats.outliers_influence import variance_inflation_factor\n",
    "\n",
    "# Calculate VIF for each feature\n",
    "vif = pd.DataFrame()\n",
    "vif['Feature'] = X.columns\n",
    "vif['VIF'] = [variance_inflation_factor(X, i) for i in range(X.shape[1])]\n",
    "\n",
    "print(\"Variance Inflation Factor (VIF) values:\")\n",
    "print(vif)"
   ]
  },
  {
   "cell_type": "code",
   "execution_count": 6,
   "id": "678239cf",
   "metadata": {
    "execution": {
     "iopub.execute_input": "2023-07-17T04:32:23.371872Z",
     "iopub.status.busy": "2023-07-17T04:32:23.371162Z",
     "iopub.status.idle": "2023-07-17T04:32:23.426774Z",
     "shell.execute_reply": "2023-07-17T04:32:23.425300Z"
    },
    "papermill": {
     "duration": 0.078916,
     "end_time": "2023-07-17T04:32:23.430873",
     "exception": false,
     "start_time": "2023-07-17T04:32:23.351957",
     "status": "completed"
    },
    "tags": []
   },
   "outputs": [
    {
     "data": {
      "text/plain": [
       "{'14', '15', '22', '23', '24', '25', '29', '4', '5', '9'}"
      ]
     },
     "execution_count": 6,
     "metadata": {},
     "output_type": "execute_result"
    }
   ],
   "source": [
    "# Return Highly correlated features\n",
    "def correlation(df, threshold):\n",
    "    correlated_cols = set()\n",
    "    corr_matrix = df.corr()\n",
    "    for i in range(len(corr_matrix.columns)):\n",
    "        for j in range(i):\n",
    "            if abs(corr_matrix.iloc[i, j]) > threshold:\n",
    "                colname = corr_matrix.columns[i]\n",
    "                correlated_cols.add(colname)\n",
    "    return correlated_cols\n",
    "\n",
    "correlation(X, 0.9)"
   ]
  },
  {
   "cell_type": "code",
   "execution_count": 7,
   "id": "5656af09",
   "metadata": {
    "execution": {
     "iopub.execute_input": "2023-07-17T04:32:23.451893Z",
     "iopub.status.busy": "2023-07-17T04:32:23.451494Z",
     "iopub.status.idle": "2023-07-17T04:32:23.460784Z",
     "shell.execute_reply": "2023-07-17T04:32:23.459826Z"
    },
    "papermill": {
     "duration": 0.021357,
     "end_time": "2023-07-17T04:32:23.463108",
     "exception": false,
     "start_time": "2023-07-17T04:32:23.441751",
     "status": "completed"
    },
    "tags": []
   },
   "outputs": [
    {
     "data": {
      "text/plain": [
       "((455, 18), (455, 30))"
      ]
     },
     "execution_count": 7,
     "metadata": {},
     "output_type": "execute_result"
    }
   ],
   "source": [
    "# Delete highly correlated features\n",
    "vif_cols = [\n",
    "    '14', '15', '22', '23', '24', '25', '28', '29', '4', '5', '8', '9'\n",
    "]\n",
    "X_vif = X.drop(vif_cols, axis=1 )\n",
    "X_vif.shape, X.shape"
   ]
  },
  {
   "cell_type": "code",
   "execution_count": 8,
   "id": "9c0091da",
   "metadata": {
    "execution": {
     "iopub.execute_input": "2023-07-17T04:32:23.483181Z",
     "iopub.status.busy": "2023-07-17T04:32:23.482034Z",
     "iopub.status.idle": "2023-07-17T04:32:23.495866Z",
     "shell.execute_reply": "2023-07-17T04:32:23.494927Z"
    },
    "papermill": {
     "duration": 0.026304,
     "end_time": "2023-07-17T04:32:23.498499",
     "exception": false,
     "start_time": "2023-07-17T04:32:23.472195",
     "status": "completed"
    },
    "tags": []
   },
   "outputs": [],
   "source": [
    "# Feature scaling\n",
    "\n",
    "# Create a standar scaler instance\n",
    "scale = StandardScaler()\n",
    "\n",
    "# tranform the data with Standard Scaling\n",
    "X_scale = scale.fit_transform(X_vif)\n",
    "\n",
    "# Split the data into training and validation sets\n",
    "X_train, X_test, y_train, y_test = train_test_split(X_scale, y, test_size=0.3, random_state=45, stratify=y)"
   ]
  },
  {
   "cell_type": "code",
   "execution_count": 9,
   "id": "c8a6d380",
   "metadata": {
    "execution": {
     "iopub.execute_input": "2023-07-17T04:32:23.517658Z",
     "iopub.status.busy": "2023-07-17T04:32:23.517254Z",
     "iopub.status.idle": "2023-07-17T04:32:23.524827Z",
     "shell.execute_reply": "2023-07-17T04:32:23.523678Z"
    },
    "papermill": {
     "duration": 0.02005,
     "end_time": "2023-07-17T04:32:23.527184",
     "exception": false,
     "start_time": "2023-07-17T04:32:23.507134",
     "status": "completed"
    },
    "tags": []
   },
   "outputs": [
    {
     "data": {
      "text/plain": [
       "((455, 30), (318, 18), (137, 18))"
      ]
     },
     "execution_count": 9,
     "metadata": {},
     "output_type": "execute_result"
    }
   ],
   "source": [
    "X.shape, X_train.shape, X_test.shape"
   ]
  },
  {
   "cell_type": "code",
   "execution_count": 10,
   "id": "eb59633a",
   "metadata": {
    "execution": {
     "iopub.execute_input": "2023-07-17T04:32:23.546033Z",
     "iopub.status.busy": "2023-07-17T04:32:23.545658Z",
     "iopub.status.idle": "2023-07-17T04:32:23.568862Z",
     "shell.execute_reply": "2023-07-17T04:32:23.567457Z"
    },
    "papermill": {
     "duration": 0.035649,
     "end_time": "2023-07-17T04:32:23.571413",
     "exception": false,
     "start_time": "2023-07-17T04:32:23.535764",
     "status": "completed"
    },
    "tags": []
   },
   "outputs": [
    {
     "name": "stdout",
     "output_type": "stream",
     "text": [
      "Logistic Regression Accuracy: 0.971\n"
     ]
    }
   ],
   "source": [
    "# Logistic Regression\n",
    "\n",
    "# Create a Logistic Regression instance\n",
    "lr = LogisticRegression()\n",
    "\n",
    "# Train the Logistic Regression model\n",
    "lr_model = lr.fit(X_train, y_train)\n",
    "\n",
    "# Make predictions on the test set\n",
    "lr_pred = lr_model.predict(X_test)\n",
    "\n",
    "# Calculate accuracy\n",
    "lr_accuracy = accuracy_score(y_test, lr_pred)\n",
    "print(\"Logistic Regression Accuracy: %.3f\"% lr_accuracy)"
   ]
  },
  {
   "cell_type": "code",
   "execution_count": 11,
   "id": "13760dc0",
   "metadata": {
    "execution": {
     "iopub.execute_input": "2023-07-17T04:32:23.590723Z",
     "iopub.status.busy": "2023-07-17T04:32:23.590282Z",
     "iopub.status.idle": "2023-07-17T04:32:23.603623Z",
     "shell.execute_reply": "2023-07-17T04:32:23.602332Z"
    },
    "papermill": {
     "duration": 0.025993,
     "end_time": "2023-07-17T04:32:23.606072",
     "exception": false,
     "start_time": "2023-07-17T04:32:23.580079",
     "status": "completed"
    },
    "tags": []
   },
   "outputs": [
    {
     "name": "stdout",
     "output_type": "stream",
     "text": [
      "Training accuracy: 0.9685534591194969\n",
      "Test accuracy: 0.9781021897810219\n"
     ]
    }
   ],
   "source": [
    "# L1 regularization (LASSO)\n",
    "from sklearn.linear_model import LogisticRegression\n",
    "\n",
    "# Create an L1 instance\n",
    "l1 = LogisticRegression(penalty='l1', C=1.0, solver='liblinear', multi_class='ovr')\n",
    "# Note that C=1.0 is the default. You can increase\n",
    "# or decrease it to make the regulariztion effect\n",
    "# stronger or weaker, respectively.\n",
    "\n",
    "# Train the L1 model\n",
    "l1.fit(X_train, y_train)\n",
    "\n",
    "# Calculate accuracy\n",
    "print('Training accuracy:', l1.score(X_train, y_train))\n",
    "print('Test accuracy:', l1.score(X_test, y_test))"
   ]
  },
  {
   "cell_type": "code",
   "execution_count": 12,
   "id": "444c62c2",
   "metadata": {
    "execution": {
     "iopub.execute_input": "2023-07-17T04:32:23.625356Z",
     "iopub.status.busy": "2023-07-17T04:32:23.624951Z",
     "iopub.status.idle": "2023-07-17T04:32:23.637539Z",
     "shell.execute_reply": "2023-07-17T04:32:23.636270Z"
    },
    "papermill": {
     "duration": 0.02516,
     "end_time": "2023-07-17T04:32:23.640000",
     "exception": false,
     "start_time": "2023-07-17T04:32:23.614840",
     "status": "completed"
    },
    "tags": []
   },
   "outputs": [
    {
     "name": "stdout",
     "output_type": "stream",
     "text": [
      "Perceptron Accuracy: 0.964\n"
     ]
    }
   ],
   "source": [
    "# Perceptron\n",
    "\n",
    "# Create a Perceptron instance\n",
    "perceptron = Perceptron()\n",
    "#perceptron = Perceptron(eta=0.1, random_state=1)\n",
    "\n",
    "# Train the perceptron model\n",
    "perceptron.fit(X_train, y_train)\n",
    "\n",
    "# Make predictions on the test set\n",
    "perceptron_pred = perceptron.predict(X_test)\n",
    "\n",
    "# Calculate accuracy\n",
    "perceptron_accuracy = accuracy_score(y_test, perceptron_pred)\n",
    "print(\"Perceptron Accuracy: %.3f\"% perceptron_accuracy)\n",
    "\n"
   ]
  },
  {
   "cell_type": "code",
   "execution_count": 13,
   "id": "89dca48a",
   "metadata": {
    "execution": {
     "iopub.execute_input": "2023-07-17T04:32:23.659350Z",
     "iopub.status.busy": "2023-07-17T04:32:23.658958Z",
     "iopub.status.idle": "2023-07-17T04:32:23.671716Z",
     "shell.execute_reply": "2023-07-17T04:32:23.670584Z"
    },
    "papermill": {
     "duration": 0.025295,
     "end_time": "2023-07-17T04:32:23.674155",
     "exception": false,
     "start_time": "2023-07-17T04:32:23.648860",
     "status": "completed"
    },
    "tags": []
   },
   "outputs": [
    {
     "name": "stdout",
     "output_type": "stream",
     "text": [
      "SVM Accuracy: 0.956\n"
     ]
    }
   ],
   "source": [
    "# SVM - Support Vector Machine\n",
    "\n",
    "# Create SVM instance\n",
    "svm = SVC()\n",
    "\n",
    "# Train the SVM model\n",
    "svm.fit(X_train, y_train)\n",
    "\n",
    "# Make predictions on the test set\n",
    "svm_pred = svm.predict(X_test)\n",
    "\n",
    "# Calculate accuracy\n",
    "svm_accuracy = accuracy_score(y_test, svm_pred)\n",
    "print(\"SVM Accuracy: %.3f\"% svm_accuracy)\n",
    "\n"
   ]
  },
  {
   "cell_type": "code",
   "execution_count": 14,
   "id": "80805752",
   "metadata": {
    "execution": {
     "iopub.execute_input": "2023-07-17T04:32:23.694452Z",
     "iopub.status.busy": "2023-07-17T04:32:23.694082Z",
     "iopub.status.idle": "2023-07-17T04:32:23.707345Z",
     "shell.execute_reply": "2023-07-17T04:32:23.706042Z"
    },
    "papermill": {
     "duration": 0.026221,
     "end_time": "2023-07-17T04:32:23.709753",
     "exception": false,
     "start_time": "2023-07-17T04:32:23.683532",
     "status": "completed"
    },
    "tags": []
   },
   "outputs": [
    {
     "name": "stdout",
     "output_type": "stream",
     "text": [
      "SVM Accuracy: 0.956\n"
     ]
    }
   ],
   "source": [
    "# SVM - Support Vector Machine\n",
    "\n",
    "# Create SVM instance\n",
    "svm = SVC(kernel='rbf')\n",
    "\n",
    "# Train the SVM model\n",
    "svm.fit(X_train, y_train)\n",
    "\n",
    "# Make predictions on the test set\n",
    "svm_pred = svm.predict(X_test)\n",
    "\n",
    "# Calculate accuracy\n",
    "svm_accuracy = accuracy_score(y_test, svm_pred)\n",
    "print(\"SVM Accuracy: %.3f\"% svm_accuracy)"
   ]
  },
  {
   "cell_type": "code",
   "execution_count": 15,
   "id": "0cb8baca",
   "metadata": {
    "execution": {
     "iopub.execute_input": "2023-07-17T04:32:23.730233Z",
     "iopub.status.busy": "2023-07-17T04:32:23.729243Z",
     "iopub.status.idle": "2023-07-17T04:32:23.800763Z",
     "shell.execute_reply": "2023-07-17T04:32:23.799245Z"
    },
    "papermill": {
     "duration": 0.084559,
     "end_time": "2023-07-17T04:32:23.803357",
     "exception": false,
     "start_time": "2023-07-17T04:32:23.718798",
     "status": "completed"
    },
    "tags": []
   },
   "outputs": [
    {
     "name": "stdout",
     "output_type": "stream",
     "text": [
      "KNN Accuracy: 0.942\n"
     ]
    }
   ],
   "source": [
    "# K-Nearest Neighbors (KNN) Model\n",
    "\n",
    "# Creat KNN instance\n",
    "knn = KNeighborsClassifier(n_neighbors=5)  # Using 5 neighbors, you can change this value as needed\n",
    "\n",
    "# Train the KNN model\n",
    "knn.fit(X_train, y_train)\n",
    "\n",
    "# Make predictions on the validation set\n",
    "knn_pred = knn.predict(X_test)\n",
    "\n",
    "# Calculate accuracy of the KNN model\n",
    "knn_accuracy = accuracy_score(y_test, knn_pred)\n",
    "print(\"KNN Accuracy: %.3f\" % knn_accuracy)"
   ]
  },
  {
   "cell_type": "code",
   "execution_count": 16,
   "id": "98f01564",
   "metadata": {
    "execution": {
     "iopub.execute_input": "2023-07-17T04:32:23.823756Z",
     "iopub.status.busy": "2023-07-17T04:32:23.822728Z",
     "iopub.status.idle": "2023-07-17T04:32:23.836122Z",
     "shell.execute_reply": "2023-07-17T04:32:23.835202Z"
    },
    "papermill": {
     "duration": 0.025766,
     "end_time": "2023-07-17T04:32:23.838289",
     "exception": false,
     "start_time": "2023-07-17T04:32:23.812523",
     "status": "completed"
    },
    "tags": []
   },
   "outputs": [
    {
     "name": "stdout",
     "output_type": "stream",
     "text": [
      "Decision Tree Accuracy: 0.905\n"
     ]
    }
   ],
   "source": [
    "# Decision Tree\n",
    "\n",
    "# Create a Decision Tree instance\n",
    "decision_tree = DecisionTreeClassifier()\n",
    "\n",
    "# Train the Decision Tree model\n",
    "decision_tree.fit(X_train, y_train)\n",
    "\n",
    "# Make predictions on the test set\n",
    "tree_pred = decision_tree.predict(X_test)\n",
    "\n",
    "# Calculate accuracy\n",
    "tree_accuracy = accuracy_score(y_test, tree_pred)\n",
    "print(\"Decision Tree Accuracy: %.3f\"% tree_accuracy)\n"
   ]
  },
  {
   "cell_type": "code",
   "execution_count": 17,
   "id": "10d071ea",
   "metadata": {
    "execution": {
     "iopub.execute_input": "2023-07-17T04:32:23.858572Z",
     "iopub.status.busy": "2023-07-17T04:32:23.857907Z",
     "iopub.status.idle": "2023-07-17T04:32:24.144965Z",
     "shell.execute_reply": "2023-07-17T04:32:24.143823Z"
    },
    "papermill": {
     "duration": 0.300015,
     "end_time": "2023-07-17T04:32:24.147449",
     "exception": false,
     "start_time": "2023-07-17T04:32:23.847434",
     "status": "completed"
    },
    "tags": []
   },
   "outputs": [
    {
     "name": "stdout",
     "output_type": "stream",
     "text": [
      "Random Forest Accuracy: 0.956\n"
     ]
    }
   ],
   "source": [
    "# Random Forest\n",
    "\n",
    "# Create a Random Forest instance\n",
    "random_forest = RandomForestClassifier()\n",
    "\n",
    "# Train the Random Forest model\n",
    "random_forest.fit(X_train, y_train)\n",
    "\n",
    "# Make predictions on the test set\n",
    "forest_pred = random_forest.predict(X_test)\n",
    "\n",
    "# Calculate accuracy\n",
    "forest_accuracy = accuracy_score(y_test, forest_pred)\n",
    "print(\"Random Forest Accuracy: %.3f\"% forest_accuracy)\n"
   ]
  },
  {
   "cell_type": "markdown",
   "id": "c116ae0c",
   "metadata": {
    "papermill": {
     "duration": 0.00908,
     "end_time": "2023-07-17T04:32:24.165957",
     "exception": false,
     "start_time": "2023-07-17T04:32:24.156877",
     "status": "completed"
    },
    "tags": []
   },
   "source": [
    "# Test Submission"
   ]
  },
  {
   "cell_type": "code",
   "execution_count": 18,
   "id": "dd76c989",
   "metadata": {
    "execution": {
     "iopub.execute_input": "2023-07-17T04:32:24.187281Z",
     "iopub.status.busy": "2023-07-17T04:32:24.186426Z",
     "iopub.status.idle": "2023-07-17T04:32:24.226270Z",
     "shell.execute_reply": "2023-07-17T04:32:24.225231Z"
    },
    "papermill": {
     "duration": 0.053391,
     "end_time": "2023-07-17T04:32:24.228917",
     "exception": false,
     "start_time": "2023-07-17T04:32:24.175526",
     "status": "completed"
    },
    "tags": []
   },
   "outputs": [
    {
     "data": {
      "text/html": [
       "<div>\n",
       "<style scoped>\n",
       "    .dataframe tbody tr th:only-of-type {\n",
       "        vertical-align: middle;\n",
       "    }\n",
       "\n",
       "    .dataframe tbody tr th {\n",
       "        vertical-align: top;\n",
       "    }\n",
       "\n",
       "    .dataframe thead th {\n",
       "        text-align: right;\n",
       "    }\n",
       "</style>\n",
       "<table border=\"1\" class=\"dataframe\">\n",
       "  <thead>\n",
       "    <tr style=\"text-align: right;\">\n",
       "      <th></th>\n",
       "      <th>0</th>\n",
       "      <th>2</th>\n",
       "      <th>3</th>\n",
       "      <th>4</th>\n",
       "      <th>5</th>\n",
       "      <th>6</th>\n",
       "      <th>7</th>\n",
       "      <th>8</th>\n",
       "      <th>9</th>\n",
       "      <th>10</th>\n",
       "      <th>...</th>\n",
       "      <th>23</th>\n",
       "      <th>24</th>\n",
       "      <th>25</th>\n",
       "      <th>26</th>\n",
       "      <th>27</th>\n",
       "      <th>28</th>\n",
       "      <th>29</th>\n",
       "      <th>30</th>\n",
       "      <th>31</th>\n",
       "      <th>ID</th>\n",
       "    </tr>\n",
       "  </thead>\n",
       "  <tbody>\n",
       "    <tr>\n",
       "      <th>0</th>\n",
       "      <td>87930</td>\n",
       "      <td>12.47</td>\n",
       "      <td>18.60</td>\n",
       "      <td>81.09</td>\n",
       "      <td>481.9</td>\n",
       "      <td>0.09965</td>\n",
       "      <td>0.1058</td>\n",
       "      <td>0.08005</td>\n",
       "      <td>0.03821</td>\n",
       "      <td>0.1925</td>\n",
       "      <td>...</td>\n",
       "      <td>24.64</td>\n",
       "      <td>96.05</td>\n",
       "      <td>677.9</td>\n",
       "      <td>0.1426</td>\n",
       "      <td>0.2378</td>\n",
       "      <td>0.2671</td>\n",
       "      <td>0.10150</td>\n",
       "      <td>0.3014</td>\n",
       "      <td>0.08750</td>\n",
       "      <td>205</td>\n",
       "    </tr>\n",
       "    <tr>\n",
       "      <th>1</th>\n",
       "      <td>859575</td>\n",
       "      <td>18.94</td>\n",
       "      <td>21.31</td>\n",
       "      <td>123.60</td>\n",
       "      <td>1130.0</td>\n",
       "      <td>0.09009</td>\n",
       "      <td>0.1029</td>\n",
       "      <td>0.10800</td>\n",
       "      <td>0.07951</td>\n",
       "      <td>0.1582</td>\n",
       "      <td>...</td>\n",
       "      <td>26.58</td>\n",
       "      <td>165.90</td>\n",
       "      <td>1866.0</td>\n",
       "      <td>0.1193</td>\n",
       "      <td>0.2336</td>\n",
       "      <td>0.2687</td>\n",
       "      <td>0.17890</td>\n",
       "      <td>0.2551</td>\n",
       "      <td>0.06589</td>\n",
       "      <td>71</td>\n",
       "    </tr>\n",
       "    <tr>\n",
       "      <th>2</th>\n",
       "      <td>8670</td>\n",
       "      <td>15.46</td>\n",
       "      <td>19.48</td>\n",
       "      <td>101.70</td>\n",
       "      <td>748.9</td>\n",
       "      <td>0.10920</td>\n",
       "      <td>0.1223</td>\n",
       "      <td>0.14660</td>\n",
       "      <td>0.08087</td>\n",
       "      <td>0.1931</td>\n",
       "      <td>...</td>\n",
       "      <td>26.00</td>\n",
       "      <td>124.90</td>\n",
       "      <td>1156.0</td>\n",
       "      <td>0.1546</td>\n",
       "      <td>0.2394</td>\n",
       "      <td>0.3791</td>\n",
       "      <td>0.15140</td>\n",
       "      <td>0.2837</td>\n",
       "      <td>0.08019</td>\n",
       "      <td>132</td>\n",
       "    </tr>\n",
       "    <tr>\n",
       "      <th>3</th>\n",
       "      <td>907915</td>\n",
       "      <td>12.40</td>\n",
       "      <td>17.68</td>\n",
       "      <td>81.47</td>\n",
       "      <td>467.8</td>\n",
       "      <td>0.10540</td>\n",
       "      <td>0.1316</td>\n",
       "      <td>0.07741</td>\n",
       "      <td>0.02799</td>\n",
       "      <td>0.1811</td>\n",
       "      <td>...</td>\n",
       "      <td>22.91</td>\n",
       "      <td>89.61</td>\n",
       "      <td>515.8</td>\n",
       "      <td>0.1450</td>\n",
       "      <td>0.2629</td>\n",
       "      <td>0.2403</td>\n",
       "      <td>0.07370</td>\n",
       "      <td>0.2556</td>\n",
       "      <td>0.09359</td>\n",
       "      <td>432</td>\n",
       "    </tr>\n",
       "    <tr>\n",
       "      <th>4</th>\n",
       "      <td>921385</td>\n",
       "      <td>11.54</td>\n",
       "      <td>14.44</td>\n",
       "      <td>74.65</td>\n",
       "      <td>402.9</td>\n",
       "      <td>0.09984</td>\n",
       "      <td>0.1120</td>\n",
       "      <td>0.06737</td>\n",
       "      <td>0.02594</td>\n",
       "      <td>0.1818</td>\n",
       "      <td>...</td>\n",
       "      <td>19.68</td>\n",
       "      <td>78.78</td>\n",
       "      <td>457.8</td>\n",
       "      <td>0.1345</td>\n",
       "      <td>0.2118</td>\n",
       "      <td>0.1797</td>\n",
       "      <td>0.06918</td>\n",
       "      <td>0.2329</td>\n",
       "      <td>0.08134</td>\n",
       "      <td>541</td>\n",
       "    </tr>\n",
       "  </tbody>\n",
       "</table>\n",
       "<p>5 rows × 32 columns</p>\n",
       "</div>"
      ],
      "text/plain": [
       "        0      2      3       4       5        6       7        8        9  \\\n",
       "0   87930  12.47  18.60   81.09   481.9  0.09965  0.1058  0.08005  0.03821   \n",
       "1  859575  18.94  21.31  123.60  1130.0  0.09009  0.1029  0.10800  0.07951   \n",
       "2    8670  15.46  19.48  101.70   748.9  0.10920  0.1223  0.14660  0.08087   \n",
       "3  907915  12.40  17.68   81.47   467.8  0.10540  0.1316  0.07741  0.02799   \n",
       "4  921385  11.54  14.44   74.65   402.9  0.09984  0.1120  0.06737  0.02594   \n",
       "\n",
       "       10  ...     23      24      25      26      27      28       29  \\\n",
       "0  0.1925  ...  24.64   96.05   677.9  0.1426  0.2378  0.2671  0.10150   \n",
       "1  0.1582  ...  26.58  165.90  1866.0  0.1193  0.2336  0.2687  0.17890   \n",
       "2  0.1931  ...  26.00  124.90  1156.0  0.1546  0.2394  0.3791  0.15140   \n",
       "3  0.1811  ...  22.91   89.61   515.8  0.1450  0.2629  0.2403  0.07370   \n",
       "4  0.1818  ...  19.68   78.78   457.8  0.1345  0.2118  0.1797  0.06918   \n",
       "\n",
       "       30       31   ID  \n",
       "0  0.3014  0.08750  205  \n",
       "1  0.2551  0.06589   71  \n",
       "2  0.2837  0.08019  132  \n",
       "3  0.2556  0.09359  432  \n",
       "4  0.2329  0.08134  541  \n",
       "\n",
       "[5 rows x 32 columns]"
      ]
     },
     "execution_count": 18,
     "metadata": {},
     "output_type": "execute_result"
    }
   ],
   "source": [
    "# Load Test data\n",
    "test_data = pd.read_csv('/kaggle/input/breast-cancer-classification-map-6990-mini-kaggle/test.csv')\n",
    "test_data.head()"
   ]
  },
  {
   "cell_type": "markdown",
   "id": "b080cc6f",
   "metadata": {
    "papermill": {
     "duration": 0.009911,
     "end_time": "2023-07-17T04:32:24.248531",
     "exception": false,
     "start_time": "2023-07-17T04:32:24.238620",
     "status": "completed"
    },
    "tags": []
   },
   "source": [
    "### Support Vector Machine (SVM) Model"
   ]
  },
  {
   "cell_type": "code",
   "execution_count": 19,
   "id": "b081cd84",
   "metadata": {
    "execution": {
     "iopub.execute_input": "2023-07-17T04:32:24.269685Z",
     "iopub.status.busy": "2023-07-17T04:32:24.269271Z",
     "iopub.status.idle": "2023-07-17T04:32:24.284570Z",
     "shell.execute_reply": "2023-07-17T04:32:24.283680Z"
    },
    "papermill": {
     "duration": 0.028696,
     "end_time": "2023-07-17T04:32:24.286958",
     "exception": false,
     "start_time": "2023-07-17T04:32:24.258262",
     "status": "completed"
    },
    "tags": []
   },
   "outputs": [],
   "source": [
    "# Data processing for test data\n",
    "X = test_data.drop(['0', 'ID'], axis=1)  # Ensure test data features match training data\n",
    "\n",
    "# Delete highly correlated features\n",
    "vif_cols = [\n",
    "    '14', '15', '22', '23', '24', '25', '28', '29', '4', '5', '8', '9'\n",
    "]\n",
    "X_vif = X.drop(vif_cols, axis=1 )\n",
    "\n",
    "# Predictions using the L1 model\n",
    "final_predictions = l1.predict(scale.transform(X_vif))\n",
    "\n",
    "# Create a DataFrame for submission\n",
    "output = pd.DataFrame({'ID': test_data['ID'], '1': final_predictions})\n",
    "\n",
    "# Write the DataFrame to a csv file\n",
    "output.to_csv('submission.csv', index=False)\n"
   ]
  }
 ],
 "metadata": {
  "kernelspec": {
   "display_name": "Python 3",
   "language": "python",
   "name": "python3"
  },
  "language_info": {
   "codemirror_mode": {
    "name": "ipython",
    "version": 3
   },
   "file_extension": ".py",
   "mimetype": "text/x-python",
   "name": "python",
   "nbconvert_exporter": "python",
   "pygments_lexer": "ipython3",
   "version": "3.10.12"
  },
  "papermill": {
   "default_parameters": {},
   "duration": 15.249508,
   "end_time": "2023-07-17T04:32:25.219173",
   "environment_variables": {},
   "exception": null,
   "input_path": "__notebook__.ipynb",
   "output_path": "__notebook__.ipynb",
   "parameters": {},
   "start_time": "2023-07-17T04:32:09.969665",
   "version": "2.4.0"
  }
 },
 "nbformat": 4,
 "nbformat_minor": 5
}
