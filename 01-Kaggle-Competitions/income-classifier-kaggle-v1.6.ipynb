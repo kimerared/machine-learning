{
 "cells": [
  {
   "cell_type": "markdown",
   "id": "c9ca8607",
   "metadata": {
    "papermill": {
     "duration": 0.024044,
     "end_time": "2023-07-27T04:15:05.671121",
     "exception": false,
     "start_time": "2023-07-27T04:15:05.647077",
     "status": "completed"
    },
    "tags": []
   },
   "source": [
    "## Load Libraries"
   ]
  },
  {
   "cell_type": "code",
   "execution_count": 1,
   "id": "7d533d6a",
   "metadata": {
    "execution": {
     "iopub.execute_input": "2023-07-27T04:15:05.723554Z",
     "iopub.status.busy": "2023-07-27T04:15:05.721991Z",
     "iopub.status.idle": "2023-07-27T04:15:08.520999Z",
     "shell.execute_reply": "2023-07-27T04:15:08.519435Z"
    },
    "papermill": {
     "duration": 2.828663,
     "end_time": "2023-07-27T04:15:08.524090",
     "exception": false,
     "start_time": "2023-07-27T04:15:05.695427",
     "status": "completed"
    },
    "tags": []
   },
   "outputs": [
    {
     "name": "stderr",
     "output_type": "stream",
     "text": [
      "/opt/conda/lib/python3.10/site-packages/scipy/__init__.py:146: UserWarning: A NumPy version >=1.16.5 and <1.23.0 is required for this version of SciPy (detected version 1.23.5\n",
      "  warnings.warn(f\"A NumPy version >={np_minversion} and <{np_maxversion}\"\n"
     ]
    }
   ],
   "source": [
    "# libraries\n",
    "import numpy as np # linear algebra\n",
    "import pandas as pd # data processing, CSV file I/O (e.g. pd.read_csv)\n",
    "\n",
    "from sklearn.model_selection import train_test_split\n",
    "from sklearn.metrics import accuracy_score\n",
    "from sklearn.preprocessing import StandardScaler\n",
    "from sklearn.svm import SVC\n",
    "from sklearn.neighbors import KNeighborsClassifier\n",
    "from sklearn.linear_model import LogisticRegression\n",
    "from sklearn.linear_model import Perceptron\n",
    "from sklearn.tree import DecisionTreeClassifier\n",
    "from sklearn.ensemble import RandomForestClassifier\n",
    "from sklearn.ensemble import GradientBoostingClassifier\n",
    "from sklearn.feature_selection import mutual_info_regression\n",
    "\n",
    "import xgboost as xgb\n",
    "from xgboost import XGBClassifier, plot_tree\n",
    "\n",
    "import seaborn as sns\n",
    "import matplotlib.pyplot as plt\n",
    "\n",
    "# Load the training data from the specified address\n",
    "train_data = pd.read_csv('/kaggle/input/adult-income-classification-challenge-map-6990-mi/train.csv')"
   ]
  },
  {
   "cell_type": "markdown",
   "id": "6133826b",
   "metadata": {
    "papermill": {
     "duration": 0.023845,
     "end_time": "2023-07-27T04:15:08.572513",
     "exception": false,
     "start_time": "2023-07-27T04:15:08.548668",
     "status": "completed"
    },
    "tags": []
   },
   "source": [
    "## Data Pre-processing"
   ]
  },
  {
   "cell_type": "code",
   "execution_count": 2,
   "id": "2dad1442",
   "metadata": {
    "execution": {
     "iopub.execute_input": "2023-07-27T04:15:08.622985Z",
     "iopub.status.busy": "2023-07-27T04:15:08.622193Z",
     "iopub.status.idle": "2023-07-27T04:15:08.845679Z",
     "shell.execute_reply": "2023-07-27T04:15:08.844209Z"
    },
    "papermill": {
     "duration": 0.251922,
     "end_time": "2023-07-27T04:15:08.848524",
     "exception": false,
     "start_time": "2023-07-27T04:15:08.596602",
     "status": "completed"
    },
    "tags": []
   },
   "outputs": [
    {
     "data": {
      "text/plain": [
       "ID                0\n",
       "age               0\n",
       "workclass         0\n",
       "fnlwgt            0\n",
       "education         0\n",
       "education-num     0\n",
       "marital-status    0\n",
       "occupation        0\n",
       "relationship      0\n",
       "race              0\n",
       "sex               0\n",
       "capital-gain      0\n",
       "capital-loss      0\n",
       "hours-per-week    0\n",
       "native-country    0\n",
       "Income            0\n",
       "dtype: int64"
      ]
     },
     "execution_count": 2,
     "metadata": {},
     "output_type": "execute_result"
    }
   ],
   "source": [
    "# Drop null records\n",
    "train_data = train_data.dropna()\n",
    "\n",
    "# Check for null values\n",
    "train_data.isnull().sum()"
   ]
  },
  {
   "cell_type": "code",
   "execution_count": 3,
   "id": "edc1e395",
   "metadata": {
    "execution": {
     "iopub.execute_input": "2023-07-27T04:15:08.898680Z",
     "iopub.status.busy": "2023-07-27T04:15:08.898283Z",
     "iopub.status.idle": "2023-07-27T04:15:09.032293Z",
     "shell.execute_reply": "2023-07-27T04:15:09.030879Z"
    },
    "papermill": {
     "duration": 0.162856,
     "end_time": "2023-07-27T04:15:09.035573",
     "exception": false,
     "start_time": "2023-07-27T04:15:08.872717",
     "status": "completed"
    },
    "tags": []
   },
   "outputs": [
    {
     "name": "stdout",
     "output_type": "stream",
     "text": [
      "<class 'pandas.core.frame.DataFrame'>\n",
      "RangeIndex: 39073 entries, 0 to 39072\n",
      "Data columns (total 16 columns):\n",
      " #   Column          Non-Null Count  Dtype \n",
      "---  ------          --------------  ----- \n",
      " 0   ID              39073 non-null  int64 \n",
      " 1   age             39073 non-null  int64 \n",
      " 2   workclass       39073 non-null  object\n",
      " 3   fnlwgt          39073 non-null  int64 \n",
      " 4   education       39073 non-null  object\n",
      " 5   education-num   39073 non-null  int64 \n",
      " 6   marital-status  39073 non-null  object\n",
      " 7   occupation      39073 non-null  object\n",
      " 8   relationship    39073 non-null  object\n",
      " 9   race            39073 non-null  object\n",
      " 10  sex             39073 non-null  object\n",
      " 11  capital-gain    39073 non-null  int64 \n",
      " 12  capital-loss    39073 non-null  int64 \n",
      " 13  hours-per-week  39073 non-null  int64 \n",
      " 14  native-country  39073 non-null  object\n",
      " 15  Income          39073 non-null  int64 \n",
      "dtypes: int64(8), object(8)\n",
      "memory usage: 4.8+ MB\n"
     ]
    }
   ],
   "source": [
    "train_data.info()"
   ]
  },
  {
   "cell_type": "markdown",
   "id": "f09966d8",
   "metadata": {
    "papermill": {
     "duration": 0.023747,
     "end_time": "2023-07-27T04:15:09.083820",
     "exception": false,
     "start_time": "2023-07-27T04:15:09.060073",
     "status": "completed"
    },
    "tags": []
   },
   "source": [
    "#### There are no null values; however, there are some records with '?'.\n",
    "#### The columns: 'workclass', 'native-country', and 'occupation' will be represented as 0 during the label encoding."
   ]
  },
  {
   "cell_type": "code",
   "execution_count": 4,
   "id": "44174245",
   "metadata": {
    "execution": {
     "iopub.execute_input": "2023-07-27T04:15:09.134295Z",
     "iopub.status.busy": "2023-07-27T04:15:09.133758Z",
     "iopub.status.idle": "2023-07-27T04:15:09.213529Z",
     "shell.execute_reply": "2023-07-27T04:15:09.212165Z"
    },
    "papermill": {
     "duration": 0.108813,
     "end_time": "2023-07-27T04:15:09.216739",
     "exception": false,
     "start_time": "2023-07-27T04:15:09.107926",
     "status": "completed"
    },
    "tags": []
   },
   "outputs": [
    {
     "name": "stdout",
     "output_type": "stream",
     "text": [
      "2890\n"
     ]
    }
   ],
   "source": [
    "# Filter rows that contain '?' in 'workclass', 'native-country', and 'occupation' columns\n",
    "work_empty = train_data[train_data['workclass'].str.contains('?', regex = False)]\n",
    "native_country_empty = train_data[train_data['native-country'].str.contains('?', regex=False)]\n",
    "occupation_empty = train_data[train_data['occupation'].str.contains('?', regex=False)]\n",
    "\n",
    "# Combine the indices of all filtered rows\n",
    "filtered_indices = set().union(work_empty.index, native_country_empty.index, occupation_empty.index)\n",
    "\n",
    "# Count records with '?'\n",
    "print(len(filtered_indices))"
   ]
  },
  {
   "cell_type": "code",
   "execution_count": 5,
   "id": "ff1456da",
   "metadata": {
    "execution": {
     "iopub.execute_input": "2023-07-27T04:15:09.268027Z",
     "iopub.status.busy": "2023-07-27T04:15:09.267571Z",
     "iopub.status.idle": "2023-07-27T04:15:09.384621Z",
     "shell.execute_reply": "2023-07-27T04:15:09.383073Z"
    },
    "papermill": {
     "duration": 0.146416,
     "end_time": "2023-07-27T04:15:09.387544",
     "exception": false,
     "start_time": "2023-07-27T04:15:09.241128",
     "status": "completed"
    },
    "tags": []
   },
   "outputs": [
    {
     "name": "stdout",
     "output_type": "stream",
     "text": [
      "       workclass education       marital-status       occupation relationship  \\\n",
      "count      39073     39073                39073            39073        39073   \n",
      "unique         9        16                    7               15            6   \n",
      "top      Private   HS-grad   Married-civ-spouse   Prof-specialty      Husband   \n",
      "freq       27141     12582                17951             4915        15822   \n",
      "\n",
      "          race    sex  native-country  \n",
      "count    39073  39073           39073  \n",
      "unique       5      2              42  \n",
      "top      White   Male   United-States  \n",
      "freq     33414  26170           35059  \n"
     ]
    }
   ],
   "source": [
    "category_summary = train_data.describe(include = \"object\")\n",
    "print(category_summary)"
   ]
  },
  {
   "cell_type": "code",
   "execution_count": 6,
   "id": "d432ea6b",
   "metadata": {
    "execution": {
     "iopub.execute_input": "2023-07-27T04:15:09.438721Z",
     "iopub.status.busy": "2023-07-27T04:15:09.438290Z",
     "iopub.status.idle": "2023-07-27T04:15:09.454067Z",
     "shell.execute_reply": "2023-07-27T04:15:09.452698Z"
    },
    "papermill": {
     "duration": 0.043972,
     "end_time": "2023-07-27T04:15:09.456411",
     "exception": false,
     "start_time": "2023-07-27T04:15:09.412439",
     "status": "completed"
    },
    "tags": []
   },
   "outputs": [
    {
     "data": {
      "text/plain": [
       " Male      26170\n",
       " Female    12903\n",
       "Name: sex, dtype: int64"
      ]
     },
     "execution_count": 6,
     "metadata": {},
     "output_type": "execute_result"
    }
   ],
   "source": [
    "# frequency table for sex\n",
    "train_data['sex'].value_counts()"
   ]
  },
  {
   "cell_type": "code",
   "execution_count": 7,
   "id": "7d6923c8",
   "metadata": {
    "execution": {
     "iopub.execute_input": "2023-07-27T04:15:09.511255Z",
     "iopub.status.busy": "2023-07-27T04:15:09.510760Z",
     "iopub.status.idle": "2023-07-27T04:15:09.526897Z",
     "shell.execute_reply": "2023-07-27T04:15:09.525194Z"
    },
    "papermill": {
     "duration": 0.04686,
     "end_time": "2023-07-27T04:15:09.529651",
     "exception": false,
     "start_time": "2023-07-27T04:15:09.482791",
     "status": "completed"
    },
    "tags": []
   },
   "outputs": [
    {
     "data": {
      "text/plain": [
       " White                 33414\n",
       " Black                  3741\n",
       " Asian-Pac-Islander     1215\n",
       " Amer-Indian-Eskimo      366\n",
       " Other                   337\n",
       "Name: race, dtype: int64"
      ]
     },
     "execution_count": 7,
     "metadata": {},
     "output_type": "execute_result"
    }
   ],
   "source": [
    "# frequency table for race\n",
    "train_data['race'].value_counts()"
   ]
  },
  {
   "cell_type": "code",
   "execution_count": 8,
   "id": "8c01e8ca",
   "metadata": {
    "execution": {
     "iopub.execute_input": "2023-07-27T04:15:09.581649Z",
     "iopub.status.busy": "2023-07-27T04:15:09.580846Z",
     "iopub.status.idle": "2023-07-27T04:15:09.597660Z",
     "shell.execute_reply": "2023-07-27T04:15:09.596274Z"
    },
    "papermill": {
     "duration": 0.045641,
     "end_time": "2023-07-27T04:15:09.600319",
     "exception": false,
     "start_time": "2023-07-27T04:15:09.554678",
     "status": "completed"
    },
    "tags": []
   },
   "outputs": [
    {
     "data": {
      "text/plain": [
       " Husband           15822\n",
       " Not-in-family     10061\n",
       " Own-child          6033\n",
       " Unmarried          4087\n",
       " Wife               1852\n",
       " Other-relative     1218\n",
       "Name: relationship, dtype: int64"
      ]
     },
     "execution_count": 8,
     "metadata": {},
     "output_type": "execute_result"
    }
   ],
   "source": [
    "# frequency table for relationship\n",
    "train_data['relationship'].value_counts()"
   ]
  },
  {
   "cell_type": "code",
   "execution_count": 9,
   "id": "277a0d49",
   "metadata": {
    "execution": {
     "iopub.execute_input": "2023-07-27T04:15:09.653530Z",
     "iopub.status.busy": "2023-07-27T04:15:09.653136Z",
     "iopub.status.idle": "2023-07-27T04:15:09.669358Z",
     "shell.execute_reply": "2023-07-27T04:15:09.667939Z"
    },
    "papermill": {
     "duration": 0.045972,
     "end_time": "2023-07-27T04:15:09.672140",
     "exception": false,
     "start_time": "2023-07-27T04:15:09.626168",
     "status": "completed"
    },
    "tags": []
   },
   "outputs": [
    {
     "data": {
      "text/plain": [
       " Prof-specialty       4915\n",
       " Exec-managerial      4893\n",
       " Craft-repair         4872\n",
       " Adm-clerical         4466\n",
       " Sales                4413\n",
       " Other-service        3900\n",
       " Machine-op-inspct    2462\n",
       " ?                    2241\n",
       " Transport-moving     1908\n",
       " Handlers-cleaners    1678\n",
       " Farming-fishing      1181\n",
       " Tech-support         1124\n",
       " Protective-serv       806\n",
       " Priv-house-serv       200\n",
       " Armed-Forces           14\n",
       "Name: occupation, dtype: int64"
      ]
     },
     "execution_count": 9,
     "metadata": {},
     "output_type": "execute_result"
    }
   ],
   "source": [
    "# frequency table for occupation\n",
    "train_data['occupation'].value_counts()"
   ]
  },
  {
   "cell_type": "code",
   "execution_count": 10,
   "id": "8f838fe7",
   "metadata": {
    "execution": {
     "iopub.execute_input": "2023-07-27T04:15:09.726090Z",
     "iopub.status.busy": "2023-07-27T04:15:09.725626Z",
     "iopub.status.idle": "2023-07-27T04:15:09.742368Z",
     "shell.execute_reply": "2023-07-27T04:15:09.741105Z"
    },
    "papermill": {
     "duration": 0.046868,
     "end_time": "2023-07-27T04:15:09.744738",
     "exception": false,
     "start_time": "2023-07-27T04:15:09.697870",
     "status": "completed"
    },
    "tags": []
   },
   "outputs": [
    {
     "data": {
      "text/plain": [
       " Married-civ-spouse       17951\n",
       " Never-married            12835\n",
       " Divorced                  5298\n",
       " Separated                 1233\n",
       " Widowed                   1226\n",
       " Married-spouse-absent      502\n",
       " Married-AF-spouse           28\n",
       "Name: marital-status, dtype: int64"
      ]
     },
     "execution_count": 10,
     "metadata": {},
     "output_type": "execute_result"
    }
   ],
   "source": [
    "# frequency table for marital-status\n",
    "train_data['marital-status'].value_counts()"
   ]
  },
  {
   "cell_type": "code",
   "execution_count": 11,
   "id": "a10a23b6",
   "metadata": {
    "execution": {
     "iopub.execute_input": "2023-07-27T04:15:09.798053Z",
     "iopub.status.busy": "2023-07-27T04:15:09.797601Z",
     "iopub.status.idle": "2023-07-27T04:15:09.813899Z",
     "shell.execute_reply": "2023-07-27T04:15:09.812600Z"
    },
    "papermill": {
     "duration": 0.046731,
     "end_time": "2023-07-27T04:15:09.816564",
     "exception": false,
     "start_time": "2023-07-27T04:15:09.769833",
     "status": "completed"
    },
    "tags": []
   },
   "outputs": [
    {
     "data": {
      "text/plain": [
       " Private             27141\n",
       " Self-emp-not-inc     3068\n",
       " Local-gov            2535\n",
       " ?                    2233\n",
       " State-gov            1556\n",
       " Self-emp-inc         1363\n",
       " Federal-gov          1150\n",
       " Without-pay            19\n",
       " Never-worked            8\n",
       "Name: workclass, dtype: int64"
      ]
     },
     "execution_count": 11,
     "metadata": {},
     "output_type": "execute_result"
    }
   ],
   "source": [
    "# frequency table for workclass\n",
    "train_data['workclass'].value_counts()"
   ]
  },
  {
   "cell_type": "code",
   "execution_count": 12,
   "id": "ce4adb99",
   "metadata": {
    "execution": {
     "iopub.execute_input": "2023-07-27T04:15:09.869791Z",
     "iopub.status.busy": "2023-07-27T04:15:09.869331Z",
     "iopub.status.idle": "2023-07-27T04:15:09.884479Z",
     "shell.execute_reply": "2023-07-27T04:15:09.883523Z"
    },
    "papermill": {
     "duration": 0.044817,
     "end_time": "2023-07-27T04:15:09.887168",
     "exception": false,
     "start_time": "2023-07-27T04:15:09.842351",
     "status": "completed"
    },
    "tags": []
   },
   "outputs": [
    {
     "data": {
      "text/plain": [
       " HS-grad         12582\n",
       " Some-college     8739\n",
       " Bachelors        6379\n",
       " Masters          2131\n",
       " Assoc-voc        1657\n",
       " 11th             1451\n",
       " Assoc-acdm       1303\n",
       " 10th             1108\n",
       " 7th-8th           756\n",
       " Prof-school       654\n",
       " 9th               611\n",
       " 12th              532\n",
       " Doctorate         468\n",
       " 5th-6th           427\n",
       " 1st-4th           213\n",
       " Preschool          62\n",
       "Name: education, dtype: int64"
      ]
     },
     "execution_count": 12,
     "metadata": {},
     "output_type": "execute_result"
    }
   ],
   "source": [
    "# frequency table for education\n",
    "train_data['education'].value_counts()"
   ]
  },
  {
   "cell_type": "code",
   "execution_count": 13,
   "id": "f806e42c",
   "metadata": {
    "execution": {
     "iopub.execute_input": "2023-07-27T04:15:09.944473Z",
     "iopub.status.busy": "2023-07-27T04:15:09.944072Z",
     "iopub.status.idle": "2023-07-27T04:15:09.960387Z",
     "shell.execute_reply": "2023-07-27T04:15:09.958615Z"
    },
    "papermill": {
     "duration": 0.048656,
     "end_time": "2023-07-27T04:15:09.962864",
     "exception": false,
     "start_time": "2023-07-27T04:15:09.914208",
     "status": "completed"
    },
    "tags": []
   },
   "outputs": [
    {
     "data": {
      "text/plain": [
       " United-States                 35059\n",
       " Mexico                          790\n",
       " ?                               688\n",
       " Philippines                     231\n",
       " Germany                         159\n",
       " Puerto-Rico                     143\n",
       " Canada                          142\n",
       " El-Salvador                     124\n",
       " India                           120\n",
       " Cuba                            113\n",
       " China                            97\n",
       " England                          96\n",
       " South                            96\n",
       " Dominican-Republic               86\n",
       " Jamaica                          84\n",
       " Italy                            83\n",
       " Poland                           74\n",
       " Japan                            70\n",
       " Guatemala                        70\n",
       " Columbia                         69\n",
       " Vietnam                          67\n",
       " Portugal                         61\n",
       " Haiti                            60\n",
       " Taiwan                           53\n",
       " Iran                             47\n",
       " Ecuador                          39\n",
       " Peru                             37\n",
       " Greece                           37\n",
       " Nicaragua                        35\n",
       " France                           31\n",
       " Ireland                          25\n",
       " Cambodia                         24\n",
       " Hong                             24\n",
       " Thailand                         23\n",
       " Laos                             19\n",
       " Trinadad&Tobago                  18\n",
       " Yugoslavia                       18\n",
       " Scotland                         17\n",
       " Hungary                          15\n",
       " Outlying-US(Guam-USVI-etc)       14\n",
       " Honduras                         14\n",
       " Holand-Netherlands                1\n",
       "Name: native-country, dtype: int64"
      ]
     },
     "execution_count": 13,
     "metadata": {},
     "output_type": "execute_result"
    }
   ],
   "source": [
    "# frequency table for countries\n",
    "train_data['native-country'].value_counts()"
   ]
  },
  {
   "cell_type": "markdown",
   "id": "06d6dceb",
   "metadata": {
    "papermill": {
     "duration": 0.025908,
     "end_time": "2023-07-27T04:15:10.014338",
     "exception": false,
     "start_time": "2023-07-27T04:15:09.988430",
     "status": "completed"
    },
    "tags": []
   },
   "source": [
    "## Feature Engineering"
   ]
  },
  {
   "cell_type": "markdown",
   "id": "09f2556c",
   "metadata": {
    "papermill": {
     "duration": 0.025511,
     "end_time": "2023-07-27T04:15:10.066122",
     "exception": false,
     "start_time": "2023-07-27T04:15:10.040611",
     "status": "completed"
    },
    "tags": []
   },
   "source": [
    "#### Creating a dictionary to convert categories to integers"
   ]
  },
  {
   "cell_type": "code",
   "execution_count": 14,
   "id": "c69aa3e2",
   "metadata": {
    "execution": {
     "iopub.execute_input": "2023-07-27T04:15:10.119478Z",
     "iopub.status.busy": "2023-07-27T04:15:10.119018Z",
     "iopub.status.idle": "2023-07-27T04:15:10.151882Z",
     "shell.execute_reply": "2023-07-27T04:15:10.150351Z"
    },
    "papermill": {
     "duration": 0.063154,
     "end_time": "2023-07-27T04:15:10.154842",
     "exception": false,
     "start_time": "2023-07-27T04:15:10.091688",
     "status": "completed"
    },
    "tags": []
   },
   "outputs": [
    {
     "data": {
      "text/html": [
       "<div>\n",
       "<style scoped>\n",
       "    .dataframe tbody tr th:only-of-type {\n",
       "        vertical-align: middle;\n",
       "    }\n",
       "\n",
       "    .dataframe tbody tr th {\n",
       "        vertical-align: top;\n",
       "    }\n",
       "\n",
       "    .dataframe thead th {\n",
       "        text-align: right;\n",
       "    }\n",
       "</style>\n",
       "<table border=\"1\" class=\"dataframe\">\n",
       "  <thead>\n",
       "    <tr style=\"text-align: right;\">\n",
       "      <th></th>\n",
       "      <th>education</th>\n",
       "      <th>education-num</th>\n",
       "    </tr>\n",
       "  </thead>\n",
       "  <tbody>\n",
       "    <tr>\n",
       "      <th>10</th>\n",
       "      <td>Doctorate</td>\n",
       "      <td>16.0</td>\n",
       "    </tr>\n",
       "    <tr>\n",
       "      <th>14</th>\n",
       "      <td>Prof-school</td>\n",
       "      <td>15.0</td>\n",
       "    </tr>\n",
       "    <tr>\n",
       "      <th>12</th>\n",
       "      <td>Masters</td>\n",
       "      <td>14.0</td>\n",
       "    </tr>\n",
       "    <tr>\n",
       "      <th>9</th>\n",
       "      <td>Bachelors</td>\n",
       "      <td>13.0</td>\n",
       "    </tr>\n",
       "    <tr>\n",
       "      <th>7</th>\n",
       "      <td>Assoc-acdm</td>\n",
       "      <td>12.0</td>\n",
       "    </tr>\n",
       "    <tr>\n",
       "      <th>8</th>\n",
       "      <td>Assoc-voc</td>\n",
       "      <td>11.0</td>\n",
       "    </tr>\n",
       "    <tr>\n",
       "      <th>15</th>\n",
       "      <td>Some-college</td>\n",
       "      <td>10.0</td>\n",
       "    </tr>\n",
       "    <tr>\n",
       "      <th>11</th>\n",
       "      <td>HS-grad</td>\n",
       "      <td>9.0</td>\n",
       "    </tr>\n",
       "    <tr>\n",
       "      <th>2</th>\n",
       "      <td>12th</td>\n",
       "      <td>8.0</td>\n",
       "    </tr>\n",
       "    <tr>\n",
       "      <th>1</th>\n",
       "      <td>11th</td>\n",
       "      <td>7.0</td>\n",
       "    </tr>\n",
       "    <tr>\n",
       "      <th>0</th>\n",
       "      <td>10th</td>\n",
       "      <td>6.0</td>\n",
       "    </tr>\n",
       "    <tr>\n",
       "      <th>6</th>\n",
       "      <td>9th</td>\n",
       "      <td>5.0</td>\n",
       "    </tr>\n",
       "    <tr>\n",
       "      <th>5</th>\n",
       "      <td>7th-8th</td>\n",
       "      <td>4.0</td>\n",
       "    </tr>\n",
       "    <tr>\n",
       "      <th>4</th>\n",
       "      <td>5th-6th</td>\n",
       "      <td>3.0</td>\n",
       "    </tr>\n",
       "    <tr>\n",
       "      <th>3</th>\n",
       "      <td>1st-4th</td>\n",
       "      <td>2.0</td>\n",
       "    </tr>\n",
       "    <tr>\n",
       "      <th>13</th>\n",
       "      <td>Preschool</td>\n",
       "      <td>1.0</td>\n",
       "    </tr>\n",
       "  </tbody>\n",
       "</table>\n",
       "</div>"
      ],
      "text/plain": [
       "        education  education-num\n",
       "10      Doctorate           16.0\n",
       "14    Prof-school           15.0\n",
       "12        Masters           14.0\n",
       "9       Bachelors           13.0\n",
       "7      Assoc-acdm           12.0\n",
       "8       Assoc-voc           11.0\n",
       "15   Some-college           10.0\n",
       "11        HS-grad            9.0\n",
       "2            12th            8.0\n",
       "1            11th            7.0\n",
       "0            10th            6.0\n",
       "6             9th            5.0\n",
       "5         7th-8th            4.0\n",
       "4         5th-6th            3.0\n",
       "3         1st-4th            2.0\n",
       "13      Preschool            1.0"
      ]
     },
     "execution_count": 14,
     "metadata": {},
     "output_type": "execute_result"
    }
   ],
   "source": [
    "train_data[['education', 'education-num']].groupby(['education'], as_index=False).mean().sort_values(by='education-num', ascending=False)"
   ]
  },
  {
   "cell_type": "code",
   "execution_count": 15,
   "id": "2f8e4ef0",
   "metadata": {
    "execution": {
     "iopub.execute_input": "2023-07-27T04:15:10.214568Z",
     "iopub.status.busy": "2023-07-27T04:15:10.214129Z",
     "iopub.status.idle": "2023-07-27T04:15:10.589486Z",
     "shell.execute_reply": "2023-07-27T04:15:10.588505Z"
    },
    "papermill": {
     "duration": 0.40801,
     "end_time": "2023-07-27T04:15:10.591722",
     "exception": false,
     "start_time": "2023-07-27T04:15:10.183712",
     "status": "completed"
    },
    "tags": []
   },
   "outputs": [
    {
     "data": {
      "text/html": [
       "<div>\n",
       "<style scoped>\n",
       "    .dataframe tbody tr th:only-of-type {\n",
       "        vertical-align: middle;\n",
       "    }\n",
       "\n",
       "    .dataframe tbody tr th {\n",
       "        vertical-align: top;\n",
       "    }\n",
       "\n",
       "    .dataframe thead th {\n",
       "        text-align: right;\n",
       "    }\n",
       "</style>\n",
       "<table border=\"1\" class=\"dataframe\">\n",
       "  <thead>\n",
       "    <tr style=\"text-align: right;\">\n",
       "      <th></th>\n",
       "      <th>ID</th>\n",
       "      <th>age</th>\n",
       "      <th>workclass</th>\n",
       "      <th>fnlwgt</th>\n",
       "      <th>education</th>\n",
       "      <th>education-num</th>\n",
       "      <th>marital-status</th>\n",
       "      <th>occupation</th>\n",
       "      <th>relationship</th>\n",
       "      <th>race</th>\n",
       "      <th>sex</th>\n",
       "      <th>capital-gain</th>\n",
       "      <th>capital-loss</th>\n",
       "      <th>hours-per-week</th>\n",
       "      <th>native-country</th>\n",
       "      <th>Income</th>\n",
       "    </tr>\n",
       "  </thead>\n",
       "  <tbody>\n",
       "    <tr>\n",
       "      <th>0</th>\n",
       "      <td>34496</td>\n",
       "      <td>37</td>\n",
       "      <td>4</td>\n",
       "      <td>193106</td>\n",
       "      <td>Bachelors</td>\n",
       "      <td>13</td>\n",
       "      <td>4</td>\n",
       "      <td>12</td>\n",
       "      <td>1</td>\n",
       "      <td>4</td>\n",
       "      <td>0</td>\n",
       "      <td>0</td>\n",
       "      <td>0</td>\n",
       "      <td>30</td>\n",
       "      <td>39</td>\n",
       "      <td>0</td>\n",
       "    </tr>\n",
       "    <tr>\n",
       "      <th>1</th>\n",
       "      <td>18592</td>\n",
       "      <td>56</td>\n",
       "      <td>5</td>\n",
       "      <td>216636</td>\n",
       "      <td>12th</td>\n",
       "      <td>8</td>\n",
       "      <td>2</td>\n",
       "      <td>4</td>\n",
       "      <td>0</td>\n",
       "      <td>4</td>\n",
       "      <td>1</td>\n",
       "      <td>0</td>\n",
       "      <td>1651</td>\n",
       "      <td>40</td>\n",
       "      <td>39</td>\n",
       "      <td>0</td>\n",
       "    </tr>\n",
       "    <tr>\n",
       "      <th>2</th>\n",
       "      <td>12563</td>\n",
       "      <td>53</td>\n",
       "      <td>4</td>\n",
       "      <td>126977</td>\n",
       "      <td>HS-grad</td>\n",
       "      <td>9</td>\n",
       "      <td>5</td>\n",
       "      <td>3</td>\n",
       "      <td>1</td>\n",
       "      <td>4</td>\n",
       "      <td>1</td>\n",
       "      <td>0</td>\n",
       "      <td>0</td>\n",
       "      <td>35</td>\n",
       "      <td>39</td>\n",
       "      <td>0</td>\n",
       "    </tr>\n",
       "    <tr>\n",
       "      <th>3</th>\n",
       "      <td>553</td>\n",
       "      <td>72</td>\n",
       "      <td>4</td>\n",
       "      <td>205343</td>\n",
       "      <td>11th</td>\n",
       "      <td>7</td>\n",
       "      <td>6</td>\n",
       "      <td>1</td>\n",
       "      <td>4</td>\n",
       "      <td>4</td>\n",
       "      <td>0</td>\n",
       "      <td>0</td>\n",
       "      <td>0</td>\n",
       "      <td>40</td>\n",
       "      <td>39</td>\n",
       "      <td>0</td>\n",
       "    </tr>\n",
       "    <tr>\n",
       "      <th>4</th>\n",
       "      <td>3480</td>\n",
       "      <td>46</td>\n",
       "      <td>7</td>\n",
       "      <td>106705</td>\n",
       "      <td>Masters</td>\n",
       "      <td>14</td>\n",
       "      <td>4</td>\n",
       "      <td>4</td>\n",
       "      <td>1</td>\n",
       "      <td>4</td>\n",
       "      <td>0</td>\n",
       "      <td>0</td>\n",
       "      <td>0</td>\n",
       "      <td>38</td>\n",
       "      <td>39</td>\n",
       "      <td>0</td>\n",
       "    </tr>\n",
       "  </tbody>\n",
       "</table>\n",
       "</div>"
      ],
      "text/plain": [
       "      ID  age  workclass  fnlwgt   education  education-num  marital-status  \\\n",
       "0  34496   37          4  193106   Bachelors             13               4   \n",
       "1  18592   56          5  216636        12th              8               2   \n",
       "2  12563   53          4  126977     HS-grad              9               5   \n",
       "3    553   72          4  205343        11th              7               6   \n",
       "4   3480   46          7  106705     Masters             14               4   \n",
       "\n",
       "   occupation  relationship  race  sex  capital-gain  capital-loss  \\\n",
       "0          12             1     4    0             0             0   \n",
       "1           4             0     4    1             0          1651   \n",
       "2           3             1     4    1             0             0   \n",
       "3           1             4     4    0             0             0   \n",
       "4           4             1     4    0             0             0   \n",
       "\n",
       "   hours-per-week  native-country  Income  \n",
       "0              30              39       0  \n",
       "1              40              39       0  \n",
       "2              35              39       0  \n",
       "3              40              39       0  \n",
       "4              38              39       0  "
      ]
     },
     "execution_count": 15,
     "metadata": {},
     "output_type": "execute_result"
    }
   ],
   "source": [
    "# Function to map multiple columns using a dictionary\n",
    "def map_columns(df, mapping_dict):\n",
    "    for column, mapping in mapping_dict.items():\n",
    "        df[column] = df[column].map(mapping)\n",
    "    return df\n",
    "\n",
    "# Create mapping dictionaries for multiple columns\n",
    "work_mapping = {label: idx for idx, label in enumerate(np.unique(train_data['workclass']))}\n",
    "marital_mapping = {label: idx for idx, label in enumerate(np.unique(train_data['marital-status']))}\n",
    "occupation_mapping = {label: idx for idx, label in enumerate(np.unique(train_data['occupation']))}\n",
    "relationship_mapping = {label: idx for idx, label in enumerate(np.unique(train_data['relationship']))}\n",
    "race_mapping = {label: idx for idx, label in enumerate(np.unique(train_data['race']))}\n",
    "sex_mapping = {label: idx for idx, label in enumerate(np.unique(train_data['sex']))}\n",
    "country_mapping = {label: idx for idx, label in enumerate(np.unique(train_data['native-country']))}\n",
    "\n",
    "# Map the dictionaries to the respective columns\n",
    "mapping_dict = {\n",
    "    'workclass': work_mapping,\n",
    "    'occupation' : occupation_mapping,\n",
    "    'marital-status' : marital_mapping,\n",
    "    'relationship' : relationship_mapping,\n",
    "    'race' : race_mapping,\n",
    "    'sex' : sex_mapping,\n",
    "    'native-country' : country_mapping\n",
    "    \n",
    "}\n",
    "\n",
    "# Apply the mapping function to the DataFrame\n",
    "df_mapped = map_columns(train_data.copy(), mapping_dict)\n",
    "df_mapped.head()"
   ]
  },
  {
   "cell_type": "markdown",
   "id": "073f879f",
   "metadata": {
    "papermill": {
     "duration": 0.029207,
     "end_time": "2023-07-27T04:15:10.649606",
     "exception": false,
     "start_time": "2023-07-27T04:15:10.620399",
     "status": "completed"
    },
    "tags": []
   },
   "source": [
    "- A new column 'net-capital-gains' was created by subtracting 'capital-loss' from 'capital-gains'"
   ]
  },
  {
   "cell_type": "code",
   "execution_count": 16,
   "id": "bd04ce48",
   "metadata": {
    "execution": {
     "iopub.execute_input": "2023-07-27T04:15:10.710449Z",
     "iopub.status.busy": "2023-07-27T04:15:10.710060Z",
     "iopub.status.idle": "2023-07-27T04:15:10.716815Z",
     "shell.execute_reply": "2023-07-27T04:15:10.715710Z"
    },
    "papermill": {
     "duration": 0.04251,
     "end_time": "2023-07-27T04:15:10.719677",
     "exception": false,
     "start_time": "2023-07-27T04:15:10.677167",
     "status": "completed"
    },
    "tags": []
   },
   "outputs": [],
   "source": [
    "# Create a new column 'net-capital-gains' by subtracting 'capital-loss' from 'capital-gains'\n",
    "df_mapped['net-capital-gains'] = df_mapped['capital-gain'] - df_mapped['capital-loss']"
   ]
  },
  {
   "cell_type": "markdown",
   "id": "a0375541",
   "metadata": {
    "papermill": {
     "duration": 0.026705,
     "end_time": "2023-07-27T04:15:10.776375",
     "exception": false,
     "start_time": "2023-07-27T04:15:10.749670",
     "status": "completed"
    },
    "tags": []
   },
   "source": [
    "#### During the X-matrix process, \n",
    "- The feature 'education' was deleted because the 'education-num' is in the format needed to process the model."
   ]
  },
  {
   "cell_type": "code",
   "execution_count": 17,
   "id": "a7ea9a94",
   "metadata": {
    "execution": {
     "iopub.execute_input": "2023-07-27T04:15:10.833738Z",
     "iopub.status.busy": "2023-07-27T04:15:10.833307Z",
     "iopub.status.idle": "2023-07-27T04:15:10.853571Z",
     "shell.execute_reply": "2023-07-27T04:15:10.852251Z"
    },
    "papermill": {
     "duration": 0.052821,
     "end_time": "2023-07-27T04:15:10.856521",
     "exception": false,
     "start_time": "2023-07-27T04:15:10.803700",
     "status": "completed"
    },
    "tags": []
   },
   "outputs": [
    {
     "data": {
      "text/html": [
       "<div>\n",
       "<style scoped>\n",
       "    .dataframe tbody tr th:only-of-type {\n",
       "        vertical-align: middle;\n",
       "    }\n",
       "\n",
       "    .dataframe tbody tr th {\n",
       "        vertical-align: top;\n",
       "    }\n",
       "\n",
       "    .dataframe thead th {\n",
       "        text-align: right;\n",
       "    }\n",
       "</style>\n",
       "<table border=\"1\" class=\"dataframe\">\n",
       "  <thead>\n",
       "    <tr style=\"text-align: right;\">\n",
       "      <th></th>\n",
       "      <th>age</th>\n",
       "      <th>workclass</th>\n",
       "      <th>fnlwgt</th>\n",
       "      <th>education-num</th>\n",
       "      <th>marital-status</th>\n",
       "      <th>occupation</th>\n",
       "      <th>relationship</th>\n",
       "      <th>race</th>\n",
       "      <th>sex</th>\n",
       "      <th>hours-per-week</th>\n",
       "      <th>native-country</th>\n",
       "      <th>net-capital-gains</th>\n",
       "    </tr>\n",
       "  </thead>\n",
       "  <tbody>\n",
       "    <tr>\n",
       "      <th>0</th>\n",
       "      <td>37</td>\n",
       "      <td>4</td>\n",
       "      <td>193106</td>\n",
       "      <td>13</td>\n",
       "      <td>4</td>\n",
       "      <td>12</td>\n",
       "      <td>1</td>\n",
       "      <td>4</td>\n",
       "      <td>0</td>\n",
       "      <td>30</td>\n",
       "      <td>39</td>\n",
       "      <td>0</td>\n",
       "    </tr>\n",
       "    <tr>\n",
       "      <th>1</th>\n",
       "      <td>56</td>\n",
       "      <td>5</td>\n",
       "      <td>216636</td>\n",
       "      <td>8</td>\n",
       "      <td>2</td>\n",
       "      <td>4</td>\n",
       "      <td>0</td>\n",
       "      <td>4</td>\n",
       "      <td>1</td>\n",
       "      <td>40</td>\n",
       "      <td>39</td>\n",
       "      <td>-1651</td>\n",
       "    </tr>\n",
       "    <tr>\n",
       "      <th>2</th>\n",
       "      <td>53</td>\n",
       "      <td>4</td>\n",
       "      <td>126977</td>\n",
       "      <td>9</td>\n",
       "      <td>5</td>\n",
       "      <td>3</td>\n",
       "      <td>1</td>\n",
       "      <td>4</td>\n",
       "      <td>1</td>\n",
       "      <td>35</td>\n",
       "      <td>39</td>\n",
       "      <td>0</td>\n",
       "    </tr>\n",
       "    <tr>\n",
       "      <th>3</th>\n",
       "      <td>72</td>\n",
       "      <td>4</td>\n",
       "      <td>205343</td>\n",
       "      <td>7</td>\n",
       "      <td>6</td>\n",
       "      <td>1</td>\n",
       "      <td>4</td>\n",
       "      <td>4</td>\n",
       "      <td>0</td>\n",
       "      <td>40</td>\n",
       "      <td>39</td>\n",
       "      <td>0</td>\n",
       "    </tr>\n",
       "    <tr>\n",
       "      <th>4</th>\n",
       "      <td>46</td>\n",
       "      <td>7</td>\n",
       "      <td>106705</td>\n",
       "      <td>14</td>\n",
       "      <td>4</td>\n",
       "      <td>4</td>\n",
       "      <td>1</td>\n",
       "      <td>4</td>\n",
       "      <td>0</td>\n",
       "      <td>38</td>\n",
       "      <td>39</td>\n",
       "      <td>0</td>\n",
       "    </tr>\n",
       "  </tbody>\n",
       "</table>\n",
       "</div>"
      ],
      "text/plain": [
       "   age  workclass  fnlwgt  education-num  marital-status  occupation  \\\n",
       "0   37          4  193106             13               4          12   \n",
       "1   56          5  216636              8               2           4   \n",
       "2   53          4  126977              9               5           3   \n",
       "3   72          4  205343              7               6           1   \n",
       "4   46          7  106705             14               4           4   \n",
       "\n",
       "   relationship  race  sex  hours-per-week  native-country  net-capital-gains  \n",
       "0             1     4    0              30              39                  0  \n",
       "1             0     4    1              40              39              -1651  \n",
       "2             1     4    1              35              39                  0  \n",
       "3             4     4    0              40              39                  0  \n",
       "4             1     4    0              38              39                  0  "
      ]
     },
     "execution_count": 17,
     "metadata": {},
     "output_type": "execute_result"
    }
   ],
   "source": [
    "# Baseline-model\n",
    "X0 = df_mapped.drop(['Income','ID', 'education', 'capital-gain', 'capital-loss'], axis=1)\n",
    "y0 = df_mapped['Income']\n",
    "\n",
    "# Records comparison for the X-matrix, Y-matrix\n",
    "df_mapped.shape, X0.shape, y0.shape\n",
    "X0.head()"
   ]
  },
  {
   "cell_type": "markdown",
   "id": "b18453e0",
   "metadata": {
    "papermill": {
     "duration": 0.026113,
     "end_time": "2023-07-27T04:15:10.910146",
     "exception": false,
     "start_time": "2023-07-27T04:15:10.884033",
     "status": "completed"
    },
    "tags": []
   },
   "source": [
    "## Information Gain"
   ]
  },
  {
   "cell_type": "code",
   "execution_count": 18,
   "id": "57ec1196",
   "metadata": {
    "execution": {
     "iopub.execute_input": "2023-07-27T04:15:10.965740Z",
     "iopub.status.busy": "2023-07-27T04:15:10.964905Z",
     "iopub.status.idle": "2023-07-27T04:15:15.004054Z",
     "shell.execute_reply": "2023-07-27T04:15:15.002371Z"
    },
    "papermill": {
     "duration": 4.0748,
     "end_time": "2023-07-27T04:15:15.011398",
     "exception": false,
     "start_time": "2023-07-27T04:15:10.936598",
     "status": "completed"
    },
    "tags": []
   },
   "outputs": [
    {
     "data": {
      "image/png": "[encoded data removed]",
      "text/plain": [
       "<Figure size 1000x600 with 1 Axes>"
      ]
     },
     "metadata": {},
     "output_type": "display_data"
    }
   ],
   "source": [
    "# Calculate Information Gain (IG) scores using mutual_info_regression\n",
    "ig = mutual_info_regression(X0, y0)\n",
    "\n",
    "# Create a DataFrame with feature names and their corresponding IG scores\n",
    "feature_scores_df = pd.DataFrame({'Feature': X0.columns, 'Information_Gain': ig})\n",
    "\n",
    "# Sort the features based on IG scores from most important to least important\n",
    "sorted_features = feature_scores_df.sort_values(by='Information_Gain', ascending=False)\n",
    "\n",
    "# Plot the sorted features using a bar plot\n",
    "plt.figure(figsize=(10, 6))\n",
    "sns.barplot(x='Information_Gain', y='Feature', data=sorted_features, palette='viridis')\n",
    "plt.xlabel('Information Gain')\n",
    "plt.ylabel('Features')\n",
    "plt.title('Feature Importance based on Information Gain')\n",
    "plt.show()"
   ]
  },
  {
   "cell_type": "markdown",
   "id": "e16554e6",
   "metadata": {
    "papermill": {
     "duration": 0.029729,
     "end_time": "2023-07-27T04:15:15.071357",
     "exception": false,
     "start_time": "2023-07-27T04:15:15.041628",
     "status": "completed"
    },
    "tags": []
   },
   "source": [
    "## Correlation Analysis"
   ]
  },
  {
   "cell_type": "code",
   "execution_count": 19,
   "id": "a1415e4d",
   "metadata": {
    "execution": {
     "iopub.execute_input": "2023-07-27T04:15:15.130637Z",
     "iopub.status.busy": "2023-07-27T04:15:15.130213Z",
     "iopub.status.idle": "2023-07-27T04:15:15.213905Z",
     "shell.execute_reply": "2023-07-27T04:15:15.212508Z"
    },
    "papermill": {
     "duration": 0.117416,
     "end_time": "2023-07-27T04:15:15.217155",
     "exception": false,
     "start_time": "2023-07-27T04:15:15.099739",
     "status": "completed"
    },
    "tags": []
   },
   "outputs": [
    {
     "data": {
      "text/html": [
       "<div>\n",
       "<style scoped>\n",
       "    .dataframe tbody tr th:only-of-type {\n",
       "        vertical-align: middle;\n",
       "    }\n",
       "\n",
       "    .dataframe tbody tr th {\n",
       "        vertical-align: top;\n",
       "    }\n",
       "\n",
       "    .dataframe thead th {\n",
       "        text-align: right;\n",
       "    }\n",
       "</style>\n",
       "<table border=\"1\" class=\"dataframe\">\n",
       "  <thead>\n",
       "    <tr style=\"text-align: right;\">\n",
       "      <th></th>\n",
       "      <th>ID</th>\n",
       "      <th>age</th>\n",
       "      <th>workclass</th>\n",
       "      <th>fnlwgt</th>\n",
       "      <th>education-num</th>\n",
       "      <th>marital-status</th>\n",
       "      <th>occupation</th>\n",
       "      <th>relationship</th>\n",
       "      <th>race</th>\n",
       "      <th>sex</th>\n",
       "      <th>capital-gain</th>\n",
       "      <th>capital-loss</th>\n",
       "      <th>hours-per-week</th>\n",
       "      <th>native-country</th>\n",
       "      <th>Income</th>\n",
       "      <th>net-capital-gains</th>\n",
       "    </tr>\n",
       "  </thead>\n",
       "  <tbody>\n",
       "    <tr>\n",
       "      <th>ID</th>\n",
       "      <td>1.000000</td>\n",
       "      <td>0.006120</td>\n",
       "      <td>0.000386</td>\n",
       "      <td>-0.001257</td>\n",
       "      <td>-0.000463</td>\n",
       "      <td>0.005240</td>\n",
       "      <td>-0.001021</td>\n",
       "      <td>-0.004329</td>\n",
       "      <td>0.003425</td>\n",
       "      <td>-0.006450</td>\n",
       "      <td>-0.000153</td>\n",
       "      <td>-0.000289</td>\n",
       "      <td>-0.000801</td>\n",
       "      <td>0.003297</td>\n",
       "      <td>-0.005263</td>\n",
       "      <td>-0.000137</td>\n",
       "    </tr>\n",
       "    <tr>\n",
       "      <th>age</th>\n",
       "      <td>0.006120</td>\n",
       "      <td>1.000000</td>\n",
       "      <td>0.017063</td>\n",
       "      <td>-0.078913</td>\n",
       "      <td>0.025160</td>\n",
       "      <td>-0.262965</td>\n",
       "      <td>-0.015874</td>\n",
       "      <td>-0.261558</td>\n",
       "      <td>0.028803</td>\n",
       "      <td>0.085835</td>\n",
       "      <td>0.074589</td>\n",
       "      <td>0.058381</td>\n",
       "      <td>0.066366</td>\n",
       "      <td>-0.006166</td>\n",
       "      <td>0.229297</td>\n",
       "      <td>0.071104</td>\n",
       "    </tr>\n",
       "    <tr>\n",
       "      <th>workclass</th>\n",
       "      <td>0.000386</td>\n",
       "      <td>0.017063</td>\n",
       "      <td>1.000000</td>\n",
       "      <td>-0.013619</td>\n",
       "      <td>0.055457</td>\n",
       "      <td>-0.067621</td>\n",
       "      <td>0.260443</td>\n",
       "      <td>-0.091279</td>\n",
       "      <td>0.050740</td>\n",
       "      <td>0.092232</td>\n",
       "      <td>0.036362</td>\n",
       "      <td>0.014368</td>\n",
       "      <td>0.140063</td>\n",
       "      <td>-0.009069</td>\n",
       "      <td>0.051068</td>\n",
       "      <td>0.035446</td>\n",
       "    </tr>\n",
       "    <tr>\n",
       "      <th>fnlwgt</th>\n",
       "      <td>-0.001257</td>\n",
       "      <td>-0.078913</td>\n",
       "      <td>-0.013619</td>\n",
       "      <td>1.000000</td>\n",
       "      <td>-0.037353</td>\n",
       "      <td>0.027320</td>\n",
       "      <td>-0.000817</td>\n",
       "      <td>0.008234</td>\n",
       "      <td>-0.031349</td>\n",
       "      <td>0.028497</td>\n",
       "      <td>0.000148</td>\n",
       "      <td>-0.003136</td>\n",
       "      <td>-0.009965</td>\n",
       "      <td>-0.050185</td>\n",
       "      <td>-0.005555</td>\n",
       "      <td>0.000321</td>\n",
       "    </tr>\n",
       "    <tr>\n",
       "      <th>education-num</th>\n",
       "      <td>-0.000463</td>\n",
       "      <td>0.025160</td>\n",
       "      <td>0.055457</td>\n",
       "      <td>-0.037353</td>\n",
       "      <td>1.000000</td>\n",
       "      <td>-0.071036</td>\n",
       "      <td>0.110456</td>\n",
       "      <td>-0.090045</td>\n",
       "      <td>0.030706</td>\n",
       "      <td>0.009749</td>\n",
       "      <td>0.120936</td>\n",
       "      <td>0.080191</td>\n",
       "      <td>0.146947</td>\n",
       "      <td>0.050955</td>\n",
       "      <td>0.335365</td>\n",
       "      <td>0.116088</td>\n",
       "    </tr>\n",
       "    <tr>\n",
       "      <th>marital-status</th>\n",
       "      <td>0.005240</td>\n",
       "      <td>-0.262965</td>\n",
       "      <td>-0.067621</td>\n",
       "      <td>0.027320</td>\n",
       "      <td>-0.071036</td>\n",
       "      <td>1.000000</td>\n",
       "      <td>-0.018700</td>\n",
       "      <td>0.191403</td>\n",
       "      <td>-0.071436</td>\n",
       "      <td>-0.128174</td>\n",
       "      <td>-0.045127</td>\n",
       "      <td>-0.030285</td>\n",
       "      <td>-0.184671</td>\n",
       "      <td>-0.022092</td>\n",
       "      <td>-0.199886</td>\n",
       "      <td>-0.043298</td>\n",
       "    </tr>\n",
       "    <tr>\n",
       "      <th>occupation</th>\n",
       "      <td>-0.001021</td>\n",
       "      <td>-0.015874</td>\n",
       "      <td>0.260443</td>\n",
       "      <td>-0.000817</td>\n",
       "      <td>0.110456</td>\n",
       "      <td>-0.018700</td>\n",
       "      <td>1.000000</td>\n",
       "      <td>-0.078408</td>\n",
       "      <td>0.006315</td>\n",
       "      <td>0.078759</td>\n",
       "      <td>0.023738</td>\n",
       "      <td>0.019918</td>\n",
       "      <td>0.082628</td>\n",
       "      <td>-0.014983</td>\n",
       "      <td>0.080103</td>\n",
       "      <td>0.022555</td>\n",
       "    </tr>\n",
       "    <tr>\n",
       "      <th>relationship</th>\n",
       "      <td>-0.004329</td>\n",
       "      <td>-0.261558</td>\n",
       "      <td>-0.091279</td>\n",
       "      <td>0.008234</td>\n",
       "      <td>-0.090045</td>\n",
       "      <td>0.191403</td>\n",
       "      <td>-0.078408</td>\n",
       "      <td>1.000000</td>\n",
       "      <td>-0.121303</td>\n",
       "      <td>-0.578602</td>\n",
       "      <td>-0.056710</td>\n",
       "      <td>-0.055644</td>\n",
       "      <td>-0.247478</td>\n",
       "      <td>-0.002364</td>\n",
       "      <td>-0.251772</td>\n",
       "      <td>-0.053435</td>\n",
       "    </tr>\n",
       "    <tr>\n",
       "      <th>race</th>\n",
       "      <td>0.003425</td>\n",
       "      <td>0.028803</td>\n",
       "      <td>0.050740</td>\n",
       "      <td>-0.031349</td>\n",
       "      <td>0.030706</td>\n",
       "      <td>-0.071436</td>\n",
       "      <td>0.006315</td>\n",
       "      <td>-0.121303</td>\n",
       "      <td>1.000000</td>\n",
       "      <td>0.086094</td>\n",
       "      <td>0.010477</td>\n",
       "      <td>0.019639</td>\n",
       "      <td>0.042146</td>\n",
       "      <td>0.140067</td>\n",
       "      <td>0.070195</td>\n",
       "      <td>0.009353</td>\n",
       "    </tr>\n",
       "    <tr>\n",
       "      <th>sex</th>\n",
       "      <td>-0.006450</td>\n",
       "      <td>0.085835</td>\n",
       "      <td>0.092232</td>\n",
       "      <td>0.028497</td>\n",
       "      <td>0.009749</td>\n",
       "      <td>-0.128174</td>\n",
       "      <td>0.078759</td>\n",
       "      <td>-0.578602</td>\n",
       "      <td>0.086094</td>\n",
       "      <td>1.000000</td>\n",
       "      <td>0.048068</td>\n",
       "      <td>0.046695</td>\n",
       "      <td>0.226124</td>\n",
       "      <td>-0.011369</td>\n",
       "      <td>0.214967</td>\n",
       "      <td>0.045319</td>\n",
       "    </tr>\n",
       "    <tr>\n",
       "      <th>capital-gain</th>\n",
       "      <td>-0.000153</td>\n",
       "      <td>0.074589</td>\n",
       "      <td>0.036362</td>\n",
       "      <td>0.000148</td>\n",
       "      <td>0.120936</td>\n",
       "      <td>-0.045127</td>\n",
       "      <td>0.023738</td>\n",
       "      <td>-0.056710</td>\n",
       "      <td>0.010477</td>\n",
       "      <td>0.048068</td>\n",
       "      <td>1.000000</td>\n",
       "      <td>-0.031168</td>\n",
       "      <td>0.085805</td>\n",
       "      <td>0.000663</td>\n",
       "      <td>0.221216</td>\n",
       "      <td>0.998459</td>\n",
       "    </tr>\n",
       "    <tr>\n",
       "      <th>capital-loss</th>\n",
       "      <td>-0.000289</td>\n",
       "      <td>0.058381</td>\n",
       "      <td>0.014368</td>\n",
       "      <td>-0.003136</td>\n",
       "      <td>0.080191</td>\n",
       "      <td>-0.030285</td>\n",
       "      <td>0.019918</td>\n",
       "      <td>-0.055644</td>\n",
       "      <td>0.019639</td>\n",
       "      <td>0.046695</td>\n",
       "      <td>-0.031168</td>\n",
       "      <td>1.000000</td>\n",
       "      <td>0.051304</td>\n",
       "      <td>-0.000038</td>\n",
       "      <td>0.145783</td>\n",
       "      <td>-0.086579</td>\n",
       "    </tr>\n",
       "    <tr>\n",
       "      <th>hours-per-week</th>\n",
       "      <td>-0.000801</td>\n",
       "      <td>0.066366</td>\n",
       "      <td>0.140063</td>\n",
       "      <td>-0.009965</td>\n",
       "      <td>0.146947</td>\n",
       "      <td>-0.184671</td>\n",
       "      <td>0.082628</td>\n",
       "      <td>-0.247478</td>\n",
       "      <td>0.042146</td>\n",
       "      <td>0.226124</td>\n",
       "      <td>0.085805</td>\n",
       "      <td>0.051304</td>\n",
       "      <td>1.000000</td>\n",
       "      <td>-0.000043</td>\n",
       "      <td>0.230569</td>\n",
       "      <td>0.082676</td>\n",
       "    </tr>\n",
       "    <tr>\n",
       "      <th>native-country</th>\n",
       "      <td>0.003297</td>\n",
       "      <td>-0.006166</td>\n",
       "      <td>-0.009069</td>\n",
       "      <td>-0.050185</td>\n",
       "      <td>0.050955</td>\n",
       "      <td>-0.022092</td>\n",
       "      <td>-0.014983</td>\n",
       "      <td>-0.002364</td>\n",
       "      <td>0.140067</td>\n",
       "      <td>-0.011369</td>\n",
       "      <td>0.000663</td>\n",
       "      <td>-0.000038</td>\n",
       "      <td>-0.000043</td>\n",
       "      <td>1.000000</td>\n",
       "      <td>0.014844</td>\n",
       "      <td>0.000663</td>\n",
       "    </tr>\n",
       "    <tr>\n",
       "      <th>Income</th>\n",
       "      <td>-0.005263</td>\n",
       "      <td>0.229297</td>\n",
       "      <td>0.051068</td>\n",
       "      <td>-0.005555</td>\n",
       "      <td>0.335365</td>\n",
       "      <td>-0.199886</td>\n",
       "      <td>0.080103</td>\n",
       "      <td>-0.251772</td>\n",
       "      <td>0.070195</td>\n",
       "      <td>0.214967</td>\n",
       "      <td>0.221216</td>\n",
       "      <td>0.145783</td>\n",
       "      <td>0.230569</td>\n",
       "      <td>0.014844</td>\n",
       "      <td>1.000000</td>\n",
       "      <td>0.212400</td>\n",
       "    </tr>\n",
       "    <tr>\n",
       "      <th>net-capital-gains</th>\n",
       "      <td>-0.000137</td>\n",
       "      <td>0.071104</td>\n",
       "      <td>0.035446</td>\n",
       "      <td>0.000321</td>\n",
       "      <td>0.116088</td>\n",
       "      <td>-0.043298</td>\n",
       "      <td>0.022555</td>\n",
       "      <td>-0.053435</td>\n",
       "      <td>0.009353</td>\n",
       "      <td>0.045319</td>\n",
       "      <td>0.998459</td>\n",
       "      <td>-0.086579</td>\n",
       "      <td>0.082676</td>\n",
       "      <td>0.000663</td>\n",
       "      <td>0.212400</td>\n",
       "      <td>1.000000</td>\n",
       "    </tr>\n",
       "  </tbody>\n",
       "</table>\n",
       "</div>"
      ],
      "text/plain": [
       "                         ID       age  workclass    fnlwgt  education-num  \\\n",
       "ID                 1.000000  0.006120   0.000386 -0.001257      -0.000463   \n",
       "age                0.006120  1.000000   0.017063 -0.078913       0.025160   \n",
       "workclass          0.000386  0.017063   1.000000 -0.013619       0.055457   \n",
       "fnlwgt            -0.001257 -0.078913  -0.013619  1.000000      -0.037353   \n",
       "education-num     -0.000463  0.025160   0.055457 -0.037353       1.000000   \n",
       "marital-status     0.005240 -0.262965  -0.067621  0.027320      -0.071036   \n",
       "occupation        -0.001021 -0.015874   0.260443 -0.000817       0.110456   \n",
       "relationship      -0.004329 -0.261558  -0.091279  0.008234      -0.090045   \n",
       "race               0.003425  0.028803   0.050740 -0.031349       0.030706   \n",
       "sex               -0.006450  0.085835   0.092232  0.028497       0.009749   \n",
       "capital-gain      -0.000153  0.074589   0.036362  0.000148       0.120936   \n",
       "capital-loss      -0.000289  0.058381   0.014368 -0.003136       0.080191   \n",
       "hours-per-week    -0.000801  0.066366   0.140063 -0.009965       0.146947   \n",
       "native-country     0.003297 -0.006166  -0.009069 -0.050185       0.050955   \n",
       "Income            -0.005263  0.229297   0.051068 -0.005555       0.335365   \n",
       "net-capital-gains -0.000137  0.071104   0.035446  0.000321       0.116088   \n",
       "\n",
       "                   marital-status  occupation  relationship      race  \\\n",
       "ID                       0.005240   -0.001021     -0.004329  0.003425   \n",
       "age                     -0.262965   -0.015874     -0.261558  0.028803   \n",
       "workclass               -0.067621    0.260443     -0.091279  0.050740   \n",
       "fnlwgt                   0.027320   -0.000817      0.008234 -0.031349   \n",
       "education-num           -0.071036    0.110456     -0.090045  0.030706   \n",
       "marital-status           1.000000   -0.018700      0.191403 -0.071436   \n",
       "occupation              -0.018700    1.000000     -0.078408  0.006315   \n",
       "relationship             0.191403   -0.078408      1.000000 -0.121303   \n",
       "race                    -0.071436    0.006315     -0.121303  1.000000   \n",
       "sex                     -0.128174    0.078759     -0.578602  0.086094   \n",
       "capital-gain            -0.045127    0.023738     -0.056710  0.010477   \n",
       "capital-loss            -0.030285    0.019918     -0.055644  0.019639   \n",
       "hours-per-week          -0.184671    0.082628     -0.247478  0.042146   \n",
       "native-country          -0.022092   -0.014983     -0.002364  0.140067   \n",
       "Income                  -0.199886    0.080103     -0.251772  0.070195   \n",
       "net-capital-gains       -0.043298    0.022555     -0.053435  0.009353   \n",
       "\n",
       "                        sex  capital-gain  capital-loss  hours-per-week  \\\n",
       "ID                -0.006450     -0.000153     -0.000289       -0.000801   \n",
       "age                0.085835      0.074589      0.058381        0.066366   \n",
       "workclass          0.092232      0.036362      0.014368        0.140063   \n",
       "fnlwgt             0.028497      0.000148     -0.003136       -0.009965   \n",
       "education-num      0.009749      0.120936      0.080191        0.146947   \n",
       "marital-status    -0.128174     -0.045127     -0.030285       -0.184671   \n",
       "occupation         0.078759      0.023738      0.019918        0.082628   \n",
       "relationship      -0.578602     -0.056710     -0.055644       -0.247478   \n",
       "race               0.086094      0.010477      0.019639        0.042146   \n",
       "sex                1.000000      0.048068      0.046695        0.226124   \n",
       "capital-gain       0.048068      1.000000     -0.031168        0.085805   \n",
       "capital-loss       0.046695     -0.031168      1.000000        0.051304   \n",
       "hours-per-week     0.226124      0.085805      0.051304        1.000000   \n",
       "native-country    -0.011369      0.000663     -0.000038       -0.000043   \n",
       "Income             0.214967      0.221216      0.145783        0.230569   \n",
       "net-capital-gains  0.045319      0.998459     -0.086579        0.082676   \n",
       "\n",
       "                   native-country    Income  net-capital-gains  \n",
       "ID                       0.003297 -0.005263          -0.000137  \n",
       "age                     -0.006166  0.229297           0.071104  \n",
       "workclass               -0.009069  0.051068           0.035446  \n",
       "fnlwgt                  -0.050185 -0.005555           0.000321  \n",
       "education-num            0.050955  0.335365           0.116088  \n",
       "marital-status          -0.022092 -0.199886          -0.043298  \n",
       "occupation              -0.014983  0.080103           0.022555  \n",
       "relationship            -0.002364 -0.251772          -0.053435  \n",
       "race                     0.140067  0.070195           0.009353  \n",
       "sex                     -0.011369  0.214967           0.045319  \n",
       "capital-gain             0.000663  0.221216           0.998459  \n",
       "capital-loss            -0.000038  0.145783          -0.086579  \n",
       "hours-per-week          -0.000043  0.230569           0.082676  \n",
       "native-country           1.000000  0.014844           0.000663  \n",
       "Income                   0.014844  1.000000           0.212400  \n",
       "net-capital-gains        0.000663  0.212400           1.000000  "
      ]
     },
     "execution_count": 19,
     "metadata": {},
     "output_type": "execute_result"
    }
   ],
   "source": [
    "df_mapped.corr(numeric_only=True)"
   ]
  },
  {
   "cell_type": "code",
   "execution_count": 20,
   "id": "6635b1d3",
   "metadata": {
    "execution": {
     "iopub.execute_input": "2023-07-27T04:15:15.277715Z",
     "iopub.status.busy": "2023-07-27T04:15:15.277033Z",
     "iopub.status.idle": "2023-07-27T04:15:15.334049Z",
     "shell.execute_reply": "2023-07-27T04:15:15.332412Z"
    },
    "papermill": {
     "duration": 0.090988,
     "end_time": "2023-07-27T04:15:15.337088",
     "exception": false,
     "start_time": "2023-07-27T04:15:15.246100",
     "status": "completed"
    },
    "tags": []
   },
   "outputs": [
    {
     "data": {
      "text/plain": [
       "{'net-capital-gains'}"
      ]
     },
     "execution_count": 20,
     "metadata": {},
     "output_type": "execute_result"
    }
   ],
   "source": [
    "# Return Highly correlated features\n",
    "def correlation(df, threshold):\n",
    "    correlated_cols = set()\n",
    "    corr_matrix = df.corr(numeric_only=True)\n",
    "    for i in range(len(corr_matrix.columns)):\n",
    "        for j in range(i):\n",
    "            if abs(corr_matrix.iloc[i, j]) > threshold:\n",
    "                colname = corr_matrix.columns[i]\n",
    "                correlated_cols.add(colname)\n",
    "    return correlated_cols\n",
    "\n",
    "correlation(df_mapped, 0.9)"
   ]
  },
  {
   "cell_type": "markdown",
   "id": "19f66d63",
   "metadata": {
    "papermill": {
     "duration": 0.028746,
     "end_time": "2023-07-27T04:15:15.394949",
     "exception": false,
     "start_time": "2023-07-27T04:15:15.366203",
     "status": "completed"
    },
    "tags": []
   },
   "source": [
    "## Multicollinearity Analysis\n",
    "#### The VIF values are less than 20. Thus, we can infer there is no multicollinearity. "
   ]
  },
  {
   "cell_type": "code",
   "execution_count": 21,
   "id": "25efb65a",
   "metadata": {
    "execution": {
     "iopub.execute_input": "2023-07-27T04:15:15.456029Z",
     "iopub.status.busy": "2023-07-27T04:15:15.455550Z",
     "iopub.status.idle": "2023-07-27T04:15:16.486482Z",
     "shell.execute_reply": "2023-07-27T04:15:16.484890Z"
    },
    "papermill": {
     "duration": 1.066489,
     "end_time": "2023-07-27T04:15:16.491291",
     "exception": false,
     "start_time": "2023-07-27T04:15:15.424802",
     "status": "completed"
    },
    "tags": []
   },
   "outputs": [
    {
     "name": "stdout",
     "output_type": "stream",
     "text": [
      "Variance Inflation Factor (VIF) values:\n",
      "              Feature        VIF\n",
      "0                 age   8.439213\n",
      "1           workclass   8.440264\n",
      "2              fnlwgt   4.042015\n",
      "3       education-num  15.115721\n",
      "4      marital-status   3.983175\n",
      "5          occupation   3.714293\n",
      "6        relationship   2.591980\n",
      "7                race  17.698156\n",
      "8                 sex   4.408768\n",
      "9      hours-per-week  12.052385\n",
      "10     native-country  19.733083\n",
      "11  net-capital-gains   1.036068\n"
     ]
    }
   ],
   "source": [
    "# Checking for multicollinearity\n",
    "from statsmodels.stats.outliers_influence import variance_inflation_factor\n",
    "\n",
    "# Calculate VIF for each feature\n",
    "vif = pd.DataFrame()\n",
    "vif['Feature'] = X0.columns\n",
    "vif['VIF'] = [variance_inflation_factor(X0, i) for i in range(X0.shape[1])]\n",
    "\n",
    "print(\"Variance Inflation Factor (VIF) values:\")\n",
    "print(vif)"
   ]
  },
  {
   "cell_type": "markdown",
   "id": "55617625",
   "metadata": {
    "papermill": {
     "duration": 0.051176,
     "end_time": "2023-07-27T04:15:16.603725",
     "exception": false,
     "start_time": "2023-07-27T04:15:16.552549",
     "status": "completed"
    },
    "tags": []
   },
   "source": [
    "#### VIF does not represent a problem for any of the features."
   ]
  },
  {
   "cell_type": "markdown",
   "id": "885a408b",
   "metadata": {
    "papermill": {
     "duration": 0.02804,
     "end_time": "2023-07-27T04:15:16.660148",
     "exception": false,
     "start_time": "2023-07-27T04:15:16.632108",
     "status": "completed"
    },
    "tags": []
   },
   "source": [
    "## Data Exploration"
   ]
  },
  {
   "cell_type": "code",
   "execution_count": 22,
   "id": "16f96899",
   "metadata": {
    "execution": {
     "iopub.execute_input": "2023-07-27T04:15:16.718829Z",
     "iopub.status.busy": "2023-07-27T04:15:16.718383Z",
     "iopub.status.idle": "2023-07-27T04:15:16.956692Z",
     "shell.execute_reply": "2023-07-27T04:15:16.955378Z"
    },
    "papermill": {
     "duration": 0.270925,
     "end_time": "2023-07-27T04:15:16.959479",
     "exception": false,
     "start_time": "2023-07-27T04:15:16.688554",
     "status": "completed"
    },
    "tags": []
   },
   "outputs": [
    {
     "data": {
      "image/png": "[encoded data removed]",
      "text/plain": [
       "<Figure size 640x480 with 1 Axes>"
      ]
     },
     "metadata": {},
     "output_type": "display_data"
    }
   ],
   "source": [
    "# Set the order of the count plot \n",
    "count_order = train_data['Income'].unique()\n",
    "\n",
    "# Plot the count of unique values in the 'Income' column\n",
    "sns.countplot(x='Income', data=train_data, order=count_order)\n",
    "\n",
    "# Get the counts for each unique value in the 'Income' column\n",
    "value_counts = train_data['Income'].value_counts()\n",
    "\n",
    "# Add labels on the bars\n",
    "ax = plt.gca()\n",
    "for p in ax.patches:\n",
    "    ax.annotate(f'{p.get_height()}', (p.get_x() + p.get_width() / 2, p.get_height()), ha='center', va='bottom')\n",
    "    \n",
    "# Show the plot\n",
    "plt.show()\n",
    "plt.close()"
   ]
  },
  {
   "cell_type": "code",
   "execution_count": 23,
   "id": "f68977a3",
   "metadata": {
    "execution": {
     "iopub.execute_input": "2023-07-27T04:15:17.020321Z",
     "iopub.status.busy": "2023-07-27T04:15:17.019877Z",
     "iopub.status.idle": "2023-07-27T04:15:17.392358Z",
     "shell.execute_reply": "2023-07-27T04:15:17.391045Z"
    },
    "papermill": {
     "duration": 0.407105,
     "end_time": "2023-07-27T04:15:17.395266",
     "exception": false,
     "start_time": "2023-07-27T04:15:16.988161",
     "status": "completed"
    },
    "tags": []
   },
   "outputs": [
    {
     "data": {
      "image/png": "[encoded data removed]",
      "text/plain": [
       "<Figure size 640x480 with 1 Axes>"
      ]
     },
     "metadata": {},
     "output_type": "display_data"
    }
   ],
   "source": [
    "# age histogram\n",
    "sns.histplot(df_mapped['age'], bins=10)\n",
    "\n",
    "# Show the plot\n",
    "plt.show()\n",
    "plt.close()"
   ]
  },
  {
   "cell_type": "code",
   "execution_count": 24,
   "id": "9269f1c0",
   "metadata": {
    "execution": {
     "iopub.execute_input": "2023-07-27T04:15:17.456907Z",
     "iopub.status.busy": "2023-07-27T04:15:17.456465Z",
     "iopub.status.idle": "2023-07-27T04:15:17.717247Z",
     "shell.execute_reply": "2023-07-27T04:15:17.715594Z"
    },
    "papermill": {
     "duration": 0.295081,
     "end_time": "2023-07-27T04:15:17.720371",
     "exception": false,
     "start_time": "2023-07-27T04:15:17.425290",
     "status": "completed"
    },
    "tags": []
   },
   "outputs": [
    {
     "data": {
      "image/png": "[encoded data removed]",
      "text/plain": [
       "<Figure size 640x480 with 1 Axes>"
      ]
     },
     "metadata": {},
     "output_type": "display_data"
    }
   ],
   "source": [
    "# Plot boxplot - age vs income\n",
    "sns.boxplot(x='Income', y='age', data=train_data)\n",
    "\n",
    "# Show the plot\n",
    "plt.show()\n",
    "plt.close()"
   ]
  },
  {
   "cell_type": "code",
   "execution_count": 25,
   "id": "93f0e3b4",
   "metadata": {
    "execution": {
     "iopub.execute_input": "2023-07-27T04:15:17.787842Z",
     "iopub.status.busy": "2023-07-27T04:15:17.786343Z",
     "iopub.status.idle": "2023-07-27T04:15:18.161526Z",
     "shell.execute_reply": "2023-07-27T04:15:18.160297Z"
    },
    "papermill": {
     "duration": 0.412712,
     "end_time": "2023-07-27T04:15:18.163964",
     "exception": false,
     "start_time": "2023-07-27T04:15:17.751252",
     "status": "completed"
    },
    "tags": []
   },
   "outputs": [
    {
     "data": {
      "image/png": "[encoded data removed]",
      "text/plain": [
       "<Figure size 640x480 with 1 Axes>"
      ]
     },
     "metadata": {},
     "output_type": "display_data"
    }
   ],
   "source": [
    "# hours per week histogram\n",
    "sns.histplot(df_mapped['hours-per-week'], bins=10)\n",
    "\n",
    "# Show the plot\n",
    "plt.show()\n",
    "plt.close()"
   ]
  },
  {
   "cell_type": "code",
   "execution_count": 26,
   "id": "060b6030",
   "metadata": {
    "execution": {
     "iopub.execute_input": "2023-07-27T04:15:18.229774Z",
     "iopub.status.busy": "2023-07-27T04:15:18.228585Z",
     "iopub.status.idle": "2023-07-27T04:15:18.601476Z",
     "shell.execute_reply": "2023-07-27T04:15:18.600082Z"
    },
    "papermill": {
     "duration": 0.409794,
     "end_time": "2023-07-27T04:15:18.604206",
     "exception": false,
     "start_time": "2023-07-27T04:15:18.194412",
     "status": "completed"
    },
    "tags": []
   },
   "outputs": [
    {
     "data": {
      "image/png": "[encoded data removed]",
      "text/plain": [
       "<Figure size 640x480 with 1 Axes>"
      ]
     },
     "metadata": {},
     "output_type": "display_data"
    }
   ],
   "source": [
    "# Capital Gains histogram\n",
    "sns.histplot(df_mapped['capital-gain'], bins=3)\n",
    "\n",
    "# Show the plot\n",
    "plt.show()\n",
    "plt.close()"
   ]
  },
  {
   "cell_type": "code",
   "execution_count": 27,
   "id": "692e6cbc",
   "metadata": {
    "execution": {
     "iopub.execute_input": "2023-07-27T04:15:18.667523Z",
     "iopub.status.busy": "2023-07-27T04:15:18.667123Z",
     "iopub.status.idle": "2023-07-27T04:15:19.005149Z",
     "shell.execute_reply": "2023-07-27T04:15:19.003769Z"
    },
    "papermill": {
     "duration": 0.372954,
     "end_time": "2023-07-27T04:15:19.008156",
     "exception": false,
     "start_time": "2023-07-27T04:15:18.635202",
     "status": "completed"
    },
    "tags": []
   },
   "outputs": [
    {
     "data": {
      "image/png": "[encoded data removed]",
      "text/plain": [
       "<Figure size 640x480 with 1 Axes>"
      ]
     },
     "metadata": {},
     "output_type": "display_data"
    }
   ],
   "source": [
    "# Capital Loss histogram\n",
    "sns.histplot(df_mapped['capital-loss'], bins=6)\n",
    "\n",
    "# Show the plot\n",
    "plt.show()\n",
    "plt.close()"
   ]
  },
  {
   "cell_type": "markdown",
   "id": "2f02c894",
   "metadata": {
    "papermill": {
     "duration": 0.030585,
     "end_time": "2023-07-27T04:15:19.070935",
     "exception": false,
     "start_time": "2023-07-27T04:15:19.040350",
     "status": "completed"
    },
    "tags": []
   },
   "source": [
    "## Create X, and Y matrix after Information Gain\n",
    "- Race, final weight, Native country, capital-gain, and capital-loss will be dropped from the model."
   ]
  },
  {
   "cell_type": "code",
   "execution_count": 28,
   "id": "1ab330df",
   "metadata": {
    "execution": {
     "iopub.execute_input": "2023-07-27T04:15:19.136029Z",
     "iopub.status.busy": "2023-07-27T04:15:19.135561Z",
     "iopub.status.idle": "2023-07-27T04:15:19.154315Z",
     "shell.execute_reply": "2023-07-27T04:15:19.153018Z"
    },
    "papermill": {
     "duration": 0.053677,
     "end_time": "2023-07-27T04:15:19.156911",
     "exception": false,
     "start_time": "2023-07-27T04:15:19.103234",
     "status": "completed"
    },
    "tags": []
   },
   "outputs": [
    {
     "data": {
      "text/html": [
       "<div>\n",
       "<style scoped>\n",
       "    .dataframe tbody tr th:only-of-type {\n",
       "        vertical-align: middle;\n",
       "    }\n",
       "\n",
       "    .dataframe tbody tr th {\n",
       "        vertical-align: top;\n",
       "    }\n",
       "\n",
       "    .dataframe thead th {\n",
       "        text-align: right;\n",
       "    }\n",
       "</style>\n",
       "<table border=\"1\" class=\"dataframe\">\n",
       "  <thead>\n",
       "    <tr style=\"text-align: right;\">\n",
       "      <th></th>\n",
       "      <th>age</th>\n",
       "      <th>workclass</th>\n",
       "      <th>education-num</th>\n",
       "      <th>marital-status</th>\n",
       "      <th>occupation</th>\n",
       "      <th>relationship</th>\n",
       "      <th>sex</th>\n",
       "      <th>hours-per-week</th>\n",
       "      <th>net-capital-gains</th>\n",
       "    </tr>\n",
       "  </thead>\n",
       "  <tbody>\n",
       "    <tr>\n",
       "      <th>0</th>\n",
       "      <td>37</td>\n",
       "      <td>4</td>\n",
       "      <td>13</td>\n",
       "      <td>4</td>\n",
       "      <td>12</td>\n",
       "      <td>1</td>\n",
       "      <td>0</td>\n",
       "      <td>30</td>\n",
       "      <td>0</td>\n",
       "    </tr>\n",
       "    <tr>\n",
       "      <th>1</th>\n",
       "      <td>56</td>\n",
       "      <td>5</td>\n",
       "      <td>8</td>\n",
       "      <td>2</td>\n",
       "      <td>4</td>\n",
       "      <td>0</td>\n",
       "      <td>1</td>\n",
       "      <td>40</td>\n",
       "      <td>-1651</td>\n",
       "    </tr>\n",
       "    <tr>\n",
       "      <th>2</th>\n",
       "      <td>53</td>\n",
       "      <td>4</td>\n",
       "      <td>9</td>\n",
       "      <td>5</td>\n",
       "      <td>3</td>\n",
       "      <td>1</td>\n",
       "      <td>1</td>\n",
       "      <td>35</td>\n",
       "      <td>0</td>\n",
       "    </tr>\n",
       "    <tr>\n",
       "      <th>3</th>\n",
       "      <td>72</td>\n",
       "      <td>4</td>\n",
       "      <td>7</td>\n",
       "      <td>6</td>\n",
       "      <td>1</td>\n",
       "      <td>4</td>\n",
       "      <td>0</td>\n",
       "      <td>40</td>\n",
       "      <td>0</td>\n",
       "    </tr>\n",
       "    <tr>\n",
       "      <th>4</th>\n",
       "      <td>46</td>\n",
       "      <td>7</td>\n",
       "      <td>14</td>\n",
       "      <td>4</td>\n",
       "      <td>4</td>\n",
       "      <td>1</td>\n",
       "      <td>0</td>\n",
       "      <td>38</td>\n",
       "      <td>0</td>\n",
       "    </tr>\n",
       "  </tbody>\n",
       "</table>\n",
       "</div>"
      ],
      "text/plain": [
       "   age  workclass  education-num  marital-status  occupation  relationship  \\\n",
       "0   37          4             13               4          12             1   \n",
       "1   56          5              8               2           4             0   \n",
       "2   53          4              9               5           3             1   \n",
       "3   72          4              7               6           1             4   \n",
       "4   46          7             14               4           4             1   \n",
       "\n",
       "   sex  hours-per-week  net-capital-gains  \n",
       "0    0              30                  0  \n",
       "1    1              40              -1651  \n",
       "2    1              35                  0  \n",
       "3    0              40                  0  \n",
       "4    0              38                  0  "
      ]
     },
     "execution_count": 28,
     "metadata": {},
     "output_type": "execute_result"
    }
   ],
   "source": [
    "# Model-3\n",
    "X = df_mapped.drop(['Income','ID', 'education', 'fnlwgt', 'race', 'native-country', 'capital-gain', 'capital-loss'], axis=1)\n",
    "y = df_mapped['Income']\n",
    "\n",
    "# Records comparison for the X-matrix, Y-matrix\n",
    "df_mapped.shape, X.shape, y.shape\n",
    "X.head()"
   ]
  },
  {
   "cell_type": "markdown",
   "id": "32848324",
   "metadata": {
    "papermill": {
     "duration": 0.033559,
     "end_time": "2023-07-27T04:15:19.222086",
     "exception": false,
     "start_time": "2023-07-27T04:15:19.188527",
     "status": "completed"
    },
    "tags": []
   },
   "source": [
    "## Training and Test sets"
   ]
  },
  {
   "cell_type": "code",
   "execution_count": 29,
   "id": "eed35d5f",
   "metadata": {
    "execution": {
     "iopub.execute_input": "2023-07-27T04:15:19.287754Z",
     "iopub.status.busy": "2023-07-27T04:15:19.287279Z",
     "iopub.status.idle": "2023-07-27T04:15:19.327328Z",
     "shell.execute_reply": "2023-07-27T04:15:19.325808Z"
    },
    "papermill": {
     "duration": 0.076463,
     "end_time": "2023-07-27T04:15:19.330360",
     "exception": false,
     "start_time": "2023-07-27T04:15:19.253897",
     "status": "completed"
    },
    "tags": []
   },
   "outputs": [],
   "source": [
    "# Split the data into training and validation sets\n",
    "X_train, X_test, y_train, y_test = train_test_split(X, y, test_size=0.3, random_state=45, stratify=y)"
   ]
  },
  {
   "cell_type": "markdown",
   "id": "104e5983",
   "metadata": {
    "papermill": {
     "duration": 0.030349,
     "end_time": "2023-07-27T04:15:19.392521",
     "exception": false,
     "start_time": "2023-07-27T04:15:19.362172",
     "status": "completed"
    },
    "tags": []
   },
   "source": [
    "## Feature Scaling\n",
    "#### Standarizing the data"
   ]
  },
  {
   "cell_type": "code",
   "execution_count": 30,
   "id": "17032fa3",
   "metadata": {
    "execution": {
     "iopub.execute_input": "2023-07-27T04:15:19.457018Z",
     "iopub.status.busy": "2023-07-27T04:15:19.456543Z",
     "iopub.status.idle": "2023-07-27T04:15:19.476157Z",
     "shell.execute_reply": "2023-07-27T04:15:19.474778Z"
    },
    "papermill": {
     "duration": 0.05526,
     "end_time": "2023-07-27T04:15:19.479103",
     "exception": false,
     "start_time": "2023-07-27T04:15:19.423843",
     "status": "completed"
    },
    "tags": []
   },
   "outputs": [],
   "source": [
    "# Feature scaling\n",
    "\n",
    "# Create a standar scaler instance\n",
    "scale = StandardScaler()\n",
    "\n",
    "# tranform the data with Standard Scaling\n",
    "X_train_std = scale.fit_transform(X_train)\n",
    "X_test_std = scale.transform(X_test)"
   ]
  },
  {
   "cell_type": "code",
   "execution_count": 31,
   "id": "62ef725c",
   "metadata": {
    "execution": {
     "iopub.execute_input": "2023-07-27T04:15:19.544384Z",
     "iopub.status.busy": "2023-07-27T04:15:19.543411Z",
     "iopub.status.idle": "2023-07-27T04:15:19.551786Z",
     "shell.execute_reply": "2023-07-27T04:15:19.550542Z"
    },
    "papermill": {
     "duration": 0.043857,
     "end_time": "2023-07-27T04:15:19.554472",
     "exception": false,
     "start_time": "2023-07-27T04:15:19.510615",
     "status": "completed"
    },
    "tags": []
   },
   "outputs": [
    {
     "data": {
      "text/plain": [
       "((39073, 9), (27351, 9), (11722, 9))"
      ]
     },
     "execution_count": 31,
     "metadata": {},
     "output_type": "execute_result"
    }
   ],
   "source": [
    "X.shape, X_train.shape, X_test.shape"
   ]
  },
  {
   "cell_type": "markdown",
   "id": "975f34d4",
   "metadata": {
    "papermill": {
     "duration": 0.030872,
     "end_time": "2023-07-27T04:15:19.617497",
     "exception": false,
     "start_time": "2023-07-27T04:15:19.586625",
     "status": "completed"
    },
    "tags": []
   },
   "source": [
    "# Training of Different Models"
   ]
  },
  {
   "cell_type": "markdown",
   "id": "b8a93e43",
   "metadata": {
    "papermill": {
     "duration": 0.031541,
     "end_time": "2023-07-27T04:15:19.681033",
     "exception": false,
     "start_time": "2023-07-27T04:15:19.649492",
     "status": "completed"
    },
    "tags": []
   },
   "source": [
    "### Logistic Regression"
   ]
  },
  {
   "cell_type": "code",
   "execution_count": 32,
   "id": "557c9a56",
   "metadata": {
    "execution": {
     "iopub.execute_input": "2023-07-27T04:15:19.747713Z",
     "iopub.status.busy": "2023-07-27T04:15:19.746284Z",
     "iopub.status.idle": "2023-07-27T04:15:19.831628Z",
     "shell.execute_reply": "2023-07-27T04:15:19.830488Z"
    },
    "papermill": {
     "duration": 0.122762,
     "end_time": "2023-07-27T04:15:19.835432",
     "exception": false,
     "start_time": "2023-07-27T04:15:19.712670",
     "status": "completed"
    },
    "tags": []
   },
   "outputs": [
    {
     "name": "stdout",
     "output_type": "stream",
     "text": [
      "Logistic Regression Accuracy: 0.819\n"
     ]
    }
   ],
   "source": [
    "# Logistic Regression\n",
    "\n",
    "# Create a Logistic Regression instance\n",
    "lr = LogisticRegression()\n",
    "\n",
    "# Train the Logistic Regression model\n",
    "lr_model = lr.fit(X_train_std, y_train)\n",
    "\n",
    "# Make predictions on the test set\n",
    "lr_pred = lr_model.predict(X_test_std)\n",
    "\n",
    "# Calculate accuracy\n",
    "lr_accuracy = accuracy_score(y_test, lr_pred)\n",
    "print(\"Logistic Regression Accuracy: %.3f\"% lr_accuracy)"
   ]
  },
  {
   "cell_type": "markdown",
   "id": "b7fb58e7",
   "metadata": {
    "papermill": {
     "duration": 0.053757,
     "end_time": "2023-07-27T04:15:19.956900",
     "exception": false,
     "start_time": "2023-07-27T04:15:19.903143",
     "status": "completed"
    },
    "tags": []
   },
   "source": [
    "### L1 Regularization"
   ]
  },
  {
   "cell_type": "code",
   "execution_count": 33,
   "id": "ec5f78ec",
   "metadata": {
    "execution": {
     "iopub.execute_input": "2023-07-27T04:15:20.023761Z",
     "iopub.status.busy": "2023-07-27T04:15:20.023333Z",
     "iopub.status.idle": "2023-07-27T04:15:20.112551Z",
     "shell.execute_reply": "2023-07-27T04:15:20.109603Z"
    },
    "papermill": {
     "duration": 0.130072,
     "end_time": "2023-07-27T04:15:20.118159",
     "exception": false,
     "start_time": "2023-07-27T04:15:19.988087",
     "status": "completed"
    },
    "tags": []
   },
   "outputs": [
    {
     "name": "stdout",
     "output_type": "stream",
     "text": [
      "Training accuracy: 0.8206281305985156\n",
      "Test accuracy: 0.8188022521753967\n"
     ]
    }
   ],
   "source": [
    "# L1 regularization (LASSO)\n",
    "from sklearn.linear_model import LogisticRegression\n",
    "\n",
    "# Create an L1 instance\n",
    "l1 = LogisticRegression(penalty='l1', C=1.0, solver='liblinear', multi_class='ovr')\n",
    "# Note that C=1.0 is the default. You can increase\n",
    "# or decrease it to make the regulariztion effect\n",
    "# stronger or weaker, respectively.\n",
    "\n",
    "# Train the L1 model\n",
    "l1.fit(X_train_std, y_train)\n",
    "\n",
    "# Calculate accuracy\n",
    "print('Training accuracy:', l1.score(X_train_std, y_train))\n",
    "print('Test accuracy:', l1.score(X_test_std, y_test))"
   ]
  },
  {
   "cell_type": "markdown",
   "id": "16eedd61",
   "metadata": {
    "papermill": {
     "duration": 0.049557,
     "end_time": "2023-07-27T04:15:20.234672",
     "exception": false,
     "start_time": "2023-07-27T04:15:20.185115",
     "status": "completed"
    },
    "tags": []
   },
   "source": [
    "### Perceptron"
   ]
  },
  {
   "cell_type": "code",
   "execution_count": 34,
   "id": "c603816f",
   "metadata": {
    "execution": {
     "iopub.execute_input": "2023-07-27T04:15:20.300588Z",
     "iopub.status.busy": "2023-07-27T04:15:20.300183Z",
     "iopub.status.idle": "2023-07-27T04:15:20.365448Z",
     "shell.execute_reply": "2023-07-27T04:15:20.363797Z"
    },
    "papermill": {
     "duration": 0.10314,
     "end_time": "2023-07-27T04:15:20.369856",
     "exception": false,
     "start_time": "2023-07-27T04:15:20.266716",
     "status": "completed"
    },
    "tags": []
   },
   "outputs": [
    {
     "name": "stdout",
     "output_type": "stream",
     "text": [
      "Perceptron Accuracy: 0.715\n"
     ]
    }
   ],
   "source": [
    "# Perceptron\n",
    "\n",
    "# Create a Perceptron instance\n",
    "perceptron = Perceptron()\n",
    "#perceptron = Perceptron(eta=0.1, random_state=1)\n",
    "\n",
    "# Train the perceptron model\n",
    "perceptron.fit(X_train_std, y_train)\n",
    "\n",
    "# Make predictions on the test set\n",
    "perceptron_pred = perceptron.predict(X_test_std)\n",
    "\n",
    "# Calculate accuracy\n",
    "perceptron_accuracy = accuracy_score(y_test, perceptron_pred)\n",
    "print(\"Perceptron Accuracy: %.3f\"% perceptron_accuracy)\n",
    "\n"
   ]
  },
  {
   "cell_type": "markdown",
   "id": "65d29af4",
   "metadata": {
    "papermill": {
     "duration": 0.04935,
     "end_time": "2023-07-27T04:15:20.485807",
     "exception": false,
     "start_time": "2023-07-27T04:15:20.436457",
     "status": "completed"
    },
    "tags": []
   },
   "source": [
    "### Support Vector Machine"
   ]
  },
  {
   "cell_type": "code",
   "execution_count": 35,
   "id": "63952cf7",
   "metadata": {
    "execution": {
     "iopub.execute_input": "2023-07-27T04:15:20.550234Z",
     "iopub.status.busy": "2023-07-27T04:15:20.549772Z",
     "iopub.status.idle": "2023-07-27T04:15:41.389722Z",
     "shell.execute_reply": "2023-07-27T04:15:41.388181Z"
    },
    "papermill": {
     "duration": 20.875409,
     "end_time": "2023-07-27T04:15:41.392410",
     "exception": false,
     "start_time": "2023-07-27T04:15:20.517001",
     "status": "completed"
    },
    "tags": []
   },
   "outputs": [
    {
     "name": "stdout",
     "output_type": "stream",
     "text": [
      "SVM Accuracy: 0.847\n"
     ]
    }
   ],
   "source": [
    "# SVM - Support Vector Machine\n",
    "\n",
    "# Create SVM instance\n",
    "svm = SVC()\n",
    "\n",
    "# Train the SVM model\n",
    "svm.fit(X_train_std, y_train)\n",
    "\n",
    "# Make predictions on the test set\n",
    "svm_pred = svm.predict(X_test_std)\n",
    "\n",
    "# Calculate accuracy\n",
    "svm_accuracy = accuracy_score(y_test, svm_pred)\n",
    "print(\"SVM Accuracy: %.3f\"% svm_accuracy)\n",
    "\n"
   ]
  },
  {
   "cell_type": "markdown",
   "id": "c736ac32",
   "metadata": {
    "papermill": {
     "duration": 0.031066,
     "end_time": "2023-07-27T04:15:41.454692",
     "exception": false,
     "start_time": "2023-07-27T04:15:41.423626",
     "status": "completed"
    },
    "tags": []
   },
   "source": [
    "### Support Vector Machine with Kernerl RBF"
   ]
  },
  {
   "cell_type": "code",
   "execution_count": 36,
   "id": "7f1c35a0",
   "metadata": {
    "execution": {
     "iopub.execute_input": "2023-07-27T04:15:41.518944Z",
     "iopub.status.busy": "2023-07-27T04:15:41.518550Z",
     "iopub.status.idle": "2023-07-27T04:16:02.375863Z",
     "shell.execute_reply": "2023-07-27T04:16:02.374233Z"
    },
    "papermill": {
     "duration": 20.893315,
     "end_time": "2023-07-27T04:16:02.379224",
     "exception": false,
     "start_time": "2023-07-27T04:15:41.485909",
     "status": "completed"
    },
    "tags": []
   },
   "outputs": [
    {
     "name": "stdout",
     "output_type": "stream",
     "text": [
      "SVM Accuracy: 0.847\n"
     ]
    }
   ],
   "source": [
    "# SVM - Support Vector Machine\n",
    "\n",
    "# Create SVM instance\n",
    "svm = SVC(kernel='rbf')\n",
    "\n",
    "# Train the SVM model\n",
    "svm.fit(X_train_std, y_train)\n",
    "\n",
    "# Make predictions on the test set\n",
    "svm_pred = svm.predict(X_test_std)\n",
    "\n",
    "# Calculate accuracy\n",
    "svm_accuracy = accuracy_score(y_test, svm_pred)\n",
    "print(\"SVM Accuracy: %.3f\"% svm_accuracy)"
   ]
  },
  {
   "cell_type": "markdown",
   "id": "bdac2b61",
   "metadata": {
    "papermill": {
     "duration": 0.031185,
     "end_time": "2023-07-27T04:16:02.442015",
     "exception": false,
     "start_time": "2023-07-27T04:16:02.410830",
     "status": "completed"
    },
    "tags": []
   },
   "source": [
    "### K-Nearest Neighbors (KNN) Model"
   ]
  },
  {
   "cell_type": "code",
   "execution_count": 37,
   "id": "ca904e70",
   "metadata": {
    "execution": {
     "iopub.execute_input": "2023-07-27T04:16:02.508171Z",
     "iopub.status.busy": "2023-07-27T04:16:02.506749Z",
     "iopub.status.idle": "2023-07-27T04:16:04.230194Z",
     "shell.execute_reply": "2023-07-27T04:16:04.228936Z"
    },
    "papermill": {
     "duration": 1.759352,
     "end_time": "2023-07-27T04:16:04.232849",
     "exception": false,
     "start_time": "2023-07-27T04:16:02.473497",
     "status": "completed"
    },
    "tags": []
   },
   "outputs": [
    {
     "name": "stdout",
     "output_type": "stream",
     "text": [
      "KNN Accuracy: 0.828\n"
     ]
    }
   ],
   "source": [
    "# K-Nearest Neighbors (KNN) Model\n",
    "\n",
    "# Creat KNN instance\n",
    "knn = KNeighborsClassifier(n_neighbors=5)  # Using 5 neighbors, you can change this value as needed\n",
    "\n",
    "# Train the KNN model\n",
    "knn.fit(X_train_std, y_train)\n",
    "\n",
    "# Make predictions on the validation set\n",
    "knn_pred = knn.predict(X_test_std)\n",
    "\n",
    "# Calculate accuracy of the KNN model\n",
    "knn_accuracy = accuracy_score(y_test, knn_pred)\n",
    "print(\"KNN Accuracy: %.3f\" % knn_accuracy)"
   ]
  },
  {
   "cell_type": "markdown",
   "id": "5d270829",
   "metadata": {
    "papermill": {
     "duration": 0.033642,
     "end_time": "2023-07-27T04:16:04.300255",
     "exception": false,
     "start_time": "2023-07-27T04:16:04.266613",
     "status": "completed"
    },
    "tags": []
   },
   "source": [
    "### Decision Tree"
   ]
  },
  {
   "cell_type": "code",
   "execution_count": 38,
   "id": "8e41c88f",
   "metadata": {
    "execution": {
     "iopub.execute_input": "2023-07-27T04:16:04.365754Z",
     "iopub.status.busy": "2023-07-27T04:16:04.365293Z",
     "iopub.status.idle": "2023-07-27T04:16:04.481815Z",
     "shell.execute_reply": "2023-07-27T04:16:04.480579Z"
    },
    "papermill": {
     "duration": 0.152031,
     "end_time": "2023-07-27T04:16:04.484091",
     "exception": false,
     "start_time": "2023-07-27T04:16:04.332060",
     "status": "completed"
    },
    "tags": []
   },
   "outputs": [
    {
     "name": "stdout",
     "output_type": "stream",
     "text": [
      "Decision Tree Accuracy: 0.810\n"
     ]
    }
   ],
   "source": [
    "# Decision Tree\n",
    "\n",
    "# Create a Decision Tree instance\n",
    "decision_tree = DecisionTreeClassifier()\n",
    "\n",
    "# Train the Decision Tree model\n",
    "decision_tree.fit(X_train_std, y_train)\n",
    "\n",
    "# Make predictions on the test set\n",
    "tree_pred = decision_tree.predict(X_test_std)\n",
    "\n",
    "# Calculate accuracy\n",
    "tree_accuracy = accuracy_score(y_test, tree_pred)\n",
    "print(\"Decision Tree Accuracy: %.3f\"% tree_accuracy)\n"
   ]
  },
  {
   "cell_type": "markdown",
   "id": "6599cc63",
   "metadata": {
    "papermill": {
     "duration": 0.031791,
     "end_time": "2023-07-27T04:16:04.548930",
     "exception": false,
     "start_time": "2023-07-27T04:16:04.517139",
     "status": "completed"
    },
    "tags": []
   },
   "source": [
    "### Random Forest"
   ]
  },
  {
   "cell_type": "code",
   "execution_count": 39,
   "id": "647bc851",
   "metadata": {
    "execution": {
     "iopub.execute_input": "2023-07-27T04:16:04.615754Z",
     "iopub.status.busy": "2023-07-27T04:16:04.614481Z",
     "iopub.status.idle": "2023-07-27T04:16:08.206832Z",
     "shell.execute_reply": "2023-07-27T04:16:08.205207Z"
    },
    "papermill": {
     "duration": 3.628383,
     "end_time": "2023-07-27T04:16:08.209464",
     "exception": false,
     "start_time": "2023-07-27T04:16:04.581081",
     "status": "completed"
    },
    "tags": []
   },
   "outputs": [
    {
     "name": "stdout",
     "output_type": "stream",
     "text": [
      "Random Forest Accuracy: 0.846\n"
     ]
    }
   ],
   "source": [
    "# Random Forest\n",
    "\n",
    "# Create a Random Forest instance\n",
    "random_forest = RandomForestClassifier()\n",
    "\n",
    "# Train the Random Forest model\n",
    "random_forest.fit(X_train_std, y_train)\n",
    "\n",
    "# Make predictions on the test set\n",
    "forest_pred = random_forest.predict(X_test_std)\n",
    "\n",
    "# Calculate accuracy\n",
    "forest_accuracy = accuracy_score(y_test, forest_pred)\n",
    "print(\"Random Forest Accuracy: %.3f\"% forest_accuracy)\n"
   ]
  },
  {
   "cell_type": "code",
   "execution_count": 40,
   "id": "8357ebfd",
   "metadata": {
    "execution": {
     "iopub.execute_input": "2023-07-27T04:16:08.279367Z",
     "iopub.status.busy": "2023-07-27T04:16:08.278915Z",
     "iopub.status.idle": "2023-07-27T04:16:11.449854Z",
     "shell.execute_reply": "2023-07-27T04:16:11.448535Z"
    },
    "papermill": {
     "duration": 3.20971,
     "end_time": "2023-07-27T04:16:11.453934",
     "exception": false,
     "start_time": "2023-07-27T04:16:08.244224",
     "status": "completed"
    },
    "tags": []
   },
   "outputs": [
    {
     "name": "stdout",
     "output_type": "stream",
     "text": [
      "Random Forest Accuracy: 0.86129\n"
     ]
    }
   ],
   "source": [
    "# Random Forest using parameter tuning\n",
    "rf = RandomForestClassifier(50, max_depth=15, max_features=15)\n",
    "\n",
    "# Train the Random Forest model\n",
    "rf.fit(X_train_std, y_train)\n",
    "\n",
    "# Make predictions on the test set\n",
    "forest_pred = rf.predict(X_test_std)\n",
    "\n",
    "# Calculate accuracy\n",
    "forest_norm_accuracy = accuracy_score(y_test, forest_pred)\n",
    "print(\"Random Forest Accuracy: %.5f\"% forest_norm_accuracy)"
   ]
  },
  {
   "cell_type": "markdown",
   "id": "55cfd2fa",
   "metadata": {
    "papermill": {
     "duration": 0.032914,
     "end_time": "2023-07-27T04:16:11.520149",
     "exception": false,
     "start_time": "2023-07-27T04:16:11.487235",
     "status": "completed"
    },
    "tags": []
   },
   "source": [
    "### Gradient Boosting"
   ]
  },
  {
   "cell_type": "code",
   "execution_count": 41,
   "id": "d8f84c3a",
   "metadata": {
    "execution": {
     "iopub.execute_input": "2023-07-27T04:16:11.589813Z",
     "iopub.status.busy": "2023-07-27T04:16:11.589374Z",
     "iopub.status.idle": "2023-07-27T04:16:13.776877Z",
     "shell.execute_reply": "2023-07-27T04:16:13.775152Z"
    },
    "papermill": {
     "duration": 2.224726,
     "end_time": "2023-07-27T04:16:13.779535",
     "exception": false,
     "start_time": "2023-07-27T04:16:11.554809",
     "status": "completed"
    },
    "tags": []
   },
   "outputs": [
    {
     "name": "stdout",
     "output_type": "stream",
     "text": [
      "Gradient Boosting Accuracy: 0.86888\n"
     ]
    }
   ],
   "source": [
    "# Create a Gradient Boosting instance\n",
    "gradBoost = GradientBoostingClassifier()\n",
    "\n",
    "# Fit the model to the training data\n",
    "gradBoost.fit(X_train_std, y_train)\n",
    "\n",
    "# Make predictions on the test set\n",
    "grad_pred = gradBoost.predict(X_test_std)\n",
    "\n",
    "# Calculate the accuracy of the model\n",
    "grad_accuracy = accuracy_score(y_test, grad_pred)\n",
    "print(\"Gradient Boosting Accuracy: %.5f\"% grad_accuracy)"
   ]
  },
  {
   "cell_type": "markdown",
   "id": "b96093ff",
   "metadata": {
    "papermill": {
     "duration": 0.032335,
     "end_time": "2023-07-27T04:16:13.844467",
     "exception": false,
     "start_time": "2023-07-27T04:16:13.812132",
     "status": "completed"
    },
    "tags": []
   },
   "source": [
    "### XG Boosting"
   ]
  },
  {
   "cell_type": "code",
   "execution_count": 42,
   "id": "c42ccdfe",
   "metadata": {
    "execution": {
     "iopub.execute_input": "2023-07-27T04:16:13.912159Z",
     "iopub.status.busy": "2023-07-27T04:16:13.911084Z",
     "iopub.status.idle": "2023-07-27T04:16:15.261674Z",
     "shell.execute_reply": "2023-07-27T04:16:15.260739Z"
    },
    "papermill": {
     "duration": 1.387182,
     "end_time": "2023-07-27T04:16:15.264179",
     "exception": false,
     "start_time": "2023-07-27T04:16:13.876997",
     "status": "completed"
    },
    "tags": []
   },
   "outputs": [
    {
     "name": "stdout",
     "output_type": "stream",
     "text": [
      "XG Boosting Accuracy: 0.87297\n"
     ]
    }
   ],
   "source": [
    "# XG Boosting\n",
    "\n",
    "# Create a XG Boosting instance\n",
    "xg_boost = XGBClassifier()\n",
    "\n",
    "# Fit the model to the training data\n",
    "xg_boost.fit(X_train_std, y_train)\n",
    "\n",
    "# Make predictions on the test set\n",
    "xg_pred = xg_boost.predict(X_test_std)\n",
    "\n",
    "# Calculate the accuracy of the model\n",
    "xg_accuracy = accuracy_score(y_test, xg_pred)\n",
    "print(\"XG Boosting Accuracy: %.5f\"% xg_accuracy)"
   ]
  },
  {
   "cell_type": "markdown",
   "id": "876ad476",
   "metadata": {
    "papermill": {
     "duration": 0.032991,
     "end_time": "2023-07-27T04:16:15.331191",
     "exception": false,
     "start_time": "2023-07-27T04:16:15.298200",
     "status": "completed"
    },
    "tags": []
   },
   "source": [
    "### XG Boosting - Parameter Tuning"
   ]
  },
  {
   "cell_type": "code",
   "execution_count": 43,
   "id": "19721471",
   "metadata": {
    "execution": {
     "iopub.execute_input": "2023-07-27T04:16:15.400686Z",
     "iopub.status.busy": "2023-07-27T04:16:15.400075Z",
     "iopub.status.idle": "2023-07-27T04:16:17.368079Z",
     "shell.execute_reply": "2023-07-27T04:16:17.366914Z"
    },
    "papermill": {
     "duration": 2.006061,
     "end_time": "2023-07-27T04:16:17.370473",
     "exception": false,
     "start_time": "2023-07-27T04:16:15.364412",
     "status": "completed"
    },
    "tags": []
   },
   "outputs": [
    {
     "name": "stdout",
     "output_type": "stream",
     "text": [
      "XG Boosting Accuracy: 0.87451\n"
     ]
    }
   ],
   "source": [
    "# XG Boosting - parameter tuning\n",
    "\n",
    "# Create a XG Boosting instance\n",
    "xg_tune = XGBClassifier(learning_rate = 0.5,\n",
    "                        max_depth = 2, \n",
    "                        n_estimators = 450)\n",
    "\n",
    "# Fit the model to the training data\n",
    "xg_tune.fit(X_train_std, y_train)\n",
    "\n",
    "# Make predictions on the test set\n",
    "xg_pred = xg_tune.predict(X_test_std)\n",
    "\n",
    "# Calculate the accuracy of the model\n",
    "xg_accuracy = accuracy_score(y_test, xg_pred)\n",
    "print(\"XG Boosting Accuracy: %.5f\"% xg_accuracy)"
   ]
  },
  {
   "cell_type": "markdown",
   "id": "b671c325",
   "metadata": {
    "papermill": {
     "duration": 0.031776,
     "end_time": "2023-07-27T04:16:17.435458",
     "exception": false,
     "start_time": "2023-07-27T04:16:17.403682",
     "status": "completed"
    },
    "tags": []
   },
   "source": [
    "# -----------------------\n",
    "# Test Submission\n",
    "# -----------------------"
   ]
  },
  {
   "cell_type": "code",
   "execution_count": 44,
   "id": "3ccc0a34",
   "metadata": {
    "execution": {
     "iopub.execute_input": "2023-07-27T04:16:17.503165Z",
     "iopub.status.busy": "2023-07-27T04:16:17.502723Z",
     "iopub.status.idle": "2023-07-27T04:16:17.570433Z",
     "shell.execute_reply": "2023-07-27T04:16:17.569496Z"
    },
    "papermill": {
     "duration": 0.103965,
     "end_time": "2023-07-27T04:16:17.572795",
     "exception": false,
     "start_time": "2023-07-27T04:16:17.468830",
     "status": "completed"
    },
    "tags": []
   },
   "outputs": [
    {
     "data": {
      "text/html": [
       "<div>\n",
       "<style scoped>\n",
       "    .dataframe tbody tr th:only-of-type {\n",
       "        vertical-align: middle;\n",
       "    }\n",
       "\n",
       "    .dataframe tbody tr th {\n",
       "        vertical-align: top;\n",
       "    }\n",
       "\n",
       "    .dataframe thead th {\n",
       "        text-align: right;\n",
       "    }\n",
       "</style>\n",
       "<table border=\"1\" class=\"dataframe\">\n",
       "  <thead>\n",
       "    <tr style=\"text-align: right;\">\n",
       "      <th></th>\n",
       "      <th>ID</th>\n",
       "      <th>age</th>\n",
       "      <th>workclass</th>\n",
       "      <th>fnlwgt</th>\n",
       "      <th>education</th>\n",
       "      <th>education-num</th>\n",
       "      <th>marital-status</th>\n",
       "      <th>occupation</th>\n",
       "      <th>relationship</th>\n",
       "      <th>race</th>\n",
       "      <th>sex</th>\n",
       "      <th>capital-gain</th>\n",
       "      <th>capital-loss</th>\n",
       "      <th>hours-per-week</th>\n",
       "      <th>native-country</th>\n",
       "    </tr>\n",
       "  </thead>\n",
       "  <tbody>\n",
       "    <tr>\n",
       "      <th>0</th>\n",
       "      <td>40422</td>\n",
       "      <td>30</td>\n",
       "      <td>Private</td>\n",
       "      <td>378009</td>\n",
       "      <td>HS-grad</td>\n",
       "      <td>9</td>\n",
       "      <td>Never-married</td>\n",
       "      <td>Machine-op-inspct</td>\n",
       "      <td>Own-child</td>\n",
       "      <td>White</td>\n",
       "      <td>Male</td>\n",
       "      <td>0</td>\n",
       "      <td>0</td>\n",
       "      <td>40</td>\n",
       "      <td>United-States</td>\n",
       "    </tr>\n",
       "    <tr>\n",
       "      <th>1</th>\n",
       "      <td>47739</td>\n",
       "      <td>54</td>\n",
       "      <td>State-gov</td>\n",
       "      <td>55861</td>\n",
       "      <td>Assoc-acdm</td>\n",
       "      <td>12</td>\n",
       "      <td>Divorced</td>\n",
       "      <td>Adm-clerical</td>\n",
       "      <td>Not-in-family</td>\n",
       "      <td>White</td>\n",
       "      <td>Male</td>\n",
       "      <td>0</td>\n",
       "      <td>0</td>\n",
       "      <td>39</td>\n",
       "      <td>United-States</td>\n",
       "    </tr>\n",
       "    <tr>\n",
       "      <th>2</th>\n",
       "      <td>519</td>\n",
       "      <td>21</td>\n",
       "      <td>?</td>\n",
       "      <td>204226</td>\n",
       "      <td>Some-college</td>\n",
       "      <td>10</td>\n",
       "      <td>Never-married</td>\n",
       "      <td>?</td>\n",
       "      <td>Unmarried</td>\n",
       "      <td>White</td>\n",
       "      <td>Female</td>\n",
       "      <td>0</td>\n",
       "      <td>0</td>\n",
       "      <td>35</td>\n",
       "      <td>United-States</td>\n",
       "    </tr>\n",
       "    <tr>\n",
       "      <th>3</th>\n",
       "      <td>8565</td>\n",
       "      <td>35</td>\n",
       "      <td>Private</td>\n",
       "      <td>306678</td>\n",
       "      <td>HS-grad</td>\n",
       "      <td>9</td>\n",
       "      <td>Married-civ-spouse</td>\n",
       "      <td>Machine-op-inspct</td>\n",
       "      <td>Husband</td>\n",
       "      <td>White</td>\n",
       "      <td>Male</td>\n",
       "      <td>2885</td>\n",
       "      <td>0</td>\n",
       "      <td>40</td>\n",
       "      <td>United-States</td>\n",
       "    </tr>\n",
       "    <tr>\n",
       "      <th>4</th>\n",
       "      <td>31356</td>\n",
       "      <td>42</td>\n",
       "      <td>Local-gov</td>\n",
       "      <td>121012</td>\n",
       "      <td>Some-college</td>\n",
       "      <td>10</td>\n",
       "      <td>Married-civ-spouse</td>\n",
       "      <td>Exec-managerial</td>\n",
       "      <td>Husband</td>\n",
       "      <td>White</td>\n",
       "      <td>Male</td>\n",
       "      <td>0</td>\n",
       "      <td>0</td>\n",
       "      <td>45</td>\n",
       "      <td>United-States</td>\n",
       "    </tr>\n",
       "  </tbody>\n",
       "</table>\n",
       "</div>"
      ],
      "text/plain": [
       "      ID  age   workclass  fnlwgt      education  education-num  \\\n",
       "0  40422   30     Private  378009        HS-grad              9   \n",
       "1  47739   54   State-gov   55861     Assoc-acdm             12   \n",
       "2    519   21           ?  204226   Some-college             10   \n",
       "3   8565   35     Private  306678        HS-grad              9   \n",
       "4  31356   42   Local-gov  121012   Some-college             10   \n",
       "\n",
       "        marital-status          occupation    relationship    race      sex  \\\n",
       "0        Never-married   Machine-op-inspct       Own-child   White     Male   \n",
       "1             Divorced        Adm-clerical   Not-in-family   White     Male   \n",
       "2        Never-married                   ?       Unmarried   White   Female   \n",
       "3   Married-civ-spouse   Machine-op-inspct         Husband   White     Male   \n",
       "4   Married-civ-spouse     Exec-managerial         Husband   White     Male   \n",
       "\n",
       "   capital-gain  capital-loss  hours-per-week  native-country  \n",
       "0             0             0              40   United-States  \n",
       "1             0             0              39   United-States  \n",
       "2             0             0              35   United-States  \n",
       "3          2885             0              40   United-States  \n",
       "4             0             0              45   United-States  "
      ]
     },
     "execution_count": 44,
     "metadata": {},
     "output_type": "execute_result"
    }
   ],
   "source": [
    "# Load Test data\n",
    "test_data = pd.read_csv('/kaggle/input/adult-income-classification-challenge-map-6990-mi/test.csv')\n",
    "test_data.head()"
   ]
  },
  {
   "cell_type": "code",
   "execution_count": 45,
   "id": "3ee55836",
   "metadata": {
    "execution": {
     "iopub.execute_input": "2023-07-27T04:16:17.644087Z",
     "iopub.status.busy": "2023-07-27T04:16:17.643203Z",
     "iopub.status.idle": "2023-07-27T04:16:17.651046Z",
     "shell.execute_reply": "2023-07-27T04:16:17.649787Z"
    },
    "papermill": {
     "duration": 0.045381,
     "end_time": "2023-07-27T04:16:17.653593",
     "exception": false,
     "start_time": "2023-07-27T04:16:17.608212",
     "status": "completed"
    },
    "tags": []
   },
   "outputs": [
    {
     "data": {
      "text/plain": [
       "(9769, 15)"
      ]
     },
     "execution_count": 45,
     "metadata": {},
     "output_type": "execute_result"
    }
   ],
   "source": [
    "# Checking the lenght of the test dataset\n",
    "test_data.shape"
   ]
  },
  {
   "cell_type": "markdown",
   "id": "97c784b1",
   "metadata": {
    "papermill": {
     "duration": 0.033372,
     "end_time": "2023-07-27T04:16:17.722017",
     "exception": false,
     "start_time": "2023-07-27T04:16:17.688645",
     "status": "completed"
    },
    "tags": []
   },
   "source": [
    "## Data Preparation for Test Submission\n",
    "#### Search and delete records that contain question mark symbol '?'"
   ]
  },
  {
   "cell_type": "code",
   "execution_count": 46,
   "id": "bacca8fa",
   "metadata": {
    "execution": {
     "iopub.execute_input": "2023-07-27T04:16:17.794018Z",
     "iopub.status.busy": "2023-07-27T04:16:17.792819Z",
     "iopub.status.idle": "2023-07-27T04:16:17.854404Z",
     "shell.execute_reply": "2023-07-27T04:16:17.852955Z"
    },
    "papermill": {
     "duration": 0.101163,
     "end_time": "2023-07-27T04:16:17.857045",
     "exception": false,
     "start_time": "2023-07-27T04:16:17.755882",
     "status": "completed"
    },
    "tags": []
   },
   "outputs": [
    {
     "data": {
      "text/plain": [
       "ID                0\n",
       "age               0\n",
       "workclass         0\n",
       "fnlwgt            0\n",
       "education         0\n",
       "education-num     0\n",
       "marital-status    0\n",
       "occupation        0\n",
       "relationship      0\n",
       "race              0\n",
       "sex               0\n",
       "capital-gain      0\n",
       "capital-loss      0\n",
       "hours-per-week    0\n",
       "native-country    0\n",
       "dtype: int64"
      ]
     },
     "execution_count": 46,
     "metadata": {},
     "output_type": "execute_result"
    }
   ],
   "source": [
    "# Delete empty data\n",
    "test_data = test_data.dropna()\n",
    "\n",
    "# Check empty records\n",
    "test_data.isnull().sum()"
   ]
  },
  {
   "cell_type": "markdown",
   "id": "2aee3d1d",
   "metadata": {
    "papermill": {
     "duration": 0.033676,
     "end_time": "2023-07-27T04:16:17.926108",
     "exception": false,
     "start_time": "2023-07-27T04:16:17.892432",
     "status": "completed"
    },
    "tags": []
   },
   "source": [
    "#### Create a dictionary to transform categories strings to integers"
   ]
  },
  {
   "cell_type": "code",
   "execution_count": 47,
   "id": "c2df7c82",
   "metadata": {
    "execution": {
     "iopub.execute_input": "2023-07-27T04:16:17.996212Z",
     "iopub.status.busy": "2023-07-27T04:16:17.994938Z",
     "iopub.status.idle": "2023-07-27T04:16:18.102007Z",
     "shell.execute_reply": "2023-07-27T04:16:18.100577Z"
    },
    "papermill": {
     "duration": 0.145129,
     "end_time": "2023-07-27T04:16:18.104892",
     "exception": false,
     "start_time": "2023-07-27T04:16:17.959763",
     "status": "completed"
    },
    "tags": []
   },
   "outputs": [
    {
     "data": {
      "text/html": [
       "<div>\n",
       "<style scoped>\n",
       "    .dataframe tbody tr th:only-of-type {\n",
       "        vertical-align: middle;\n",
       "    }\n",
       "\n",
       "    .dataframe tbody tr th {\n",
       "        vertical-align: top;\n",
       "    }\n",
       "\n",
       "    .dataframe thead th {\n",
       "        text-align: right;\n",
       "    }\n",
       "</style>\n",
       "<table border=\"1\" class=\"dataframe\">\n",
       "  <thead>\n",
       "    <tr style=\"text-align: right;\">\n",
       "      <th></th>\n",
       "      <th>ID</th>\n",
       "      <th>age</th>\n",
       "      <th>workclass</th>\n",
       "      <th>fnlwgt</th>\n",
       "      <th>education</th>\n",
       "      <th>education-num</th>\n",
       "      <th>marital-status</th>\n",
       "      <th>occupation</th>\n",
       "      <th>relationship</th>\n",
       "      <th>race</th>\n",
       "      <th>sex</th>\n",
       "      <th>capital-gain</th>\n",
       "      <th>capital-loss</th>\n",
       "      <th>hours-per-week</th>\n",
       "      <th>native-country</th>\n",
       "    </tr>\n",
       "  </thead>\n",
       "  <tbody>\n",
       "    <tr>\n",
       "      <th>0</th>\n",
       "      <td>40422</td>\n",
       "      <td>30</td>\n",
       "      <td>4</td>\n",
       "      <td>378009</td>\n",
       "      <td>HS-grad</td>\n",
       "      <td>9</td>\n",
       "      <td>4</td>\n",
       "      <td>7</td>\n",
       "      <td>3</td>\n",
       "      <td>4</td>\n",
       "      <td>1</td>\n",
       "      <td>0</td>\n",
       "      <td>0</td>\n",
       "      <td>40</td>\n",
       "      <td>38</td>\n",
       "    </tr>\n",
       "    <tr>\n",
       "      <th>1</th>\n",
       "      <td>47739</td>\n",
       "      <td>54</td>\n",
       "      <td>7</td>\n",
       "      <td>55861</td>\n",
       "      <td>Assoc-acdm</td>\n",
       "      <td>12</td>\n",
       "      <td>0</td>\n",
       "      <td>1</td>\n",
       "      <td>1</td>\n",
       "      <td>4</td>\n",
       "      <td>1</td>\n",
       "      <td>0</td>\n",
       "      <td>0</td>\n",
       "      <td>39</td>\n",
       "      <td>38</td>\n",
       "    </tr>\n",
       "    <tr>\n",
       "      <th>2</th>\n",
       "      <td>519</td>\n",
       "      <td>21</td>\n",
       "      <td>0</td>\n",
       "      <td>204226</td>\n",
       "      <td>Some-college</td>\n",
       "      <td>10</td>\n",
       "      <td>4</td>\n",
       "      <td>0</td>\n",
       "      <td>4</td>\n",
       "      <td>4</td>\n",
       "      <td>0</td>\n",
       "      <td>0</td>\n",
       "      <td>0</td>\n",
       "      <td>35</td>\n",
       "      <td>38</td>\n",
       "    </tr>\n",
       "    <tr>\n",
       "      <th>3</th>\n",
       "      <td>8565</td>\n",
       "      <td>35</td>\n",
       "      <td>4</td>\n",
       "      <td>306678</td>\n",
       "      <td>HS-grad</td>\n",
       "      <td>9</td>\n",
       "      <td>2</td>\n",
       "      <td>7</td>\n",
       "      <td>0</td>\n",
       "      <td>4</td>\n",
       "      <td>1</td>\n",
       "      <td>2885</td>\n",
       "      <td>0</td>\n",
       "      <td>40</td>\n",
       "      <td>38</td>\n",
       "    </tr>\n",
       "    <tr>\n",
       "      <th>4</th>\n",
       "      <td>31356</td>\n",
       "      <td>42</td>\n",
       "      <td>2</td>\n",
       "      <td>121012</td>\n",
       "      <td>Some-college</td>\n",
       "      <td>10</td>\n",
       "      <td>2</td>\n",
       "      <td>4</td>\n",
       "      <td>0</td>\n",
       "      <td>4</td>\n",
       "      <td>1</td>\n",
       "      <td>0</td>\n",
       "      <td>0</td>\n",
       "      <td>45</td>\n",
       "      <td>38</td>\n",
       "    </tr>\n",
       "  </tbody>\n",
       "</table>\n",
       "</div>"
      ],
      "text/plain": [
       "      ID  age  workclass  fnlwgt      education  education-num  \\\n",
       "0  40422   30          4  378009        HS-grad              9   \n",
       "1  47739   54          7   55861     Assoc-acdm             12   \n",
       "2    519   21          0  204226   Some-college             10   \n",
       "3   8565   35          4  306678        HS-grad              9   \n",
       "4  31356   42          2  121012   Some-college             10   \n",
       "\n",
       "   marital-status  occupation  relationship  race  sex  capital-gain  \\\n",
       "0               4           7             3     4    1             0   \n",
       "1               0           1             1     4    1             0   \n",
       "2               4           0             4     4    0             0   \n",
       "3               2           7             0     4    1          2885   \n",
       "4               2           4             0     4    1             0   \n",
       "\n",
       "   capital-loss  hours-per-week  native-country  \n",
       "0             0              40              38  \n",
       "1             0              39              38  \n",
       "2             0              35              38  \n",
       "3             0              40              38  \n",
       "4             0              45              38  "
      ]
     },
     "execution_count": 47,
     "metadata": {},
     "output_type": "execute_result"
    }
   ],
   "source": [
    "# Function to map multiple columns using a dictionary\n",
    "def map_columns(df, mapping_dict):\n",
    "    for column, mapping in mapping_dict.items():\n",
    "        df[column] = df[column].map(mapping)\n",
    "    return df\n",
    "\n",
    "# Create mapping dictionaries for multiple columns\n",
    "work_mapping_fin = {label: idx for idx, label in enumerate(np.unique(test_data['workclass']))}\n",
    "marital_mapping_fin = {label: idx for idx, label in enumerate(np.unique(test_data['marital-status']))}\n",
    "occupation_mapping_fin = {label: idx for idx, label in enumerate(np.unique(test_data['occupation']))}\n",
    "relationship_mapping_fin = {label: idx for idx, label in enumerate(np.unique(test_data['relationship']))}\n",
    "race_mapping_fin = {label: idx for idx, label in enumerate(np.unique(test_data['race']))}\n",
    "sex_mapping_fin = {label: idx for idx, label in enumerate(np.unique(test_data['sex']))}\n",
    "country_mapping_fin = {label: idx for idx, label in enumerate(np.unique(test_data['native-country']))}\n",
    "\n",
    "# Map the dictionaries to the respective columns\n",
    "mapping_dict_fin = {\n",
    "    'workclass': work_mapping_fin,\n",
    "    'occupation' : occupation_mapping_fin,\n",
    "    'marital-status' : marital_mapping_fin,\n",
    "    'relationship' : relationship_mapping_fin,\n",
    "    'race' : race_mapping_fin,\n",
    "    'sex' : sex_mapping_fin,\n",
    "    'native-country' : country_mapping_fin\n",
    "    \n",
    "}\n",
    "\n",
    "# Apply the mapping function to the DataFrame\n",
    "test_mapped_fin = map_columns(test_data.copy(), mapping_dict_fin)\n",
    "test_mapped_fin.head()"
   ]
  },
  {
   "cell_type": "code",
   "execution_count": 48,
   "id": "8495a99e",
   "metadata": {
    "execution": {
     "iopub.execute_input": "2023-07-27T04:16:18.180745Z",
     "iopub.status.busy": "2023-07-27T04:16:18.180288Z",
     "iopub.status.idle": "2023-07-27T04:16:18.201434Z",
     "shell.execute_reply": "2023-07-27T04:16:18.199294Z"
    },
    "papermill": {
     "duration": 0.061364,
     "end_time": "2023-07-27T04:16:18.204158",
     "exception": false,
     "start_time": "2023-07-27T04:16:18.142794",
     "status": "completed"
    },
    "tags": []
   },
   "outputs": [
    {
     "name": "stdout",
     "output_type": "stream",
     "text": [
      "<class 'pandas.core.frame.DataFrame'>\n",
      "RangeIndex: 9769 entries, 0 to 9768\n",
      "Data columns (total 15 columns):\n",
      " #   Column          Non-Null Count  Dtype \n",
      "---  ------          --------------  ----- \n",
      " 0   ID              9769 non-null   int64 \n",
      " 1   age             9769 non-null   int64 \n",
      " 2   workclass       9769 non-null   int64 \n",
      " 3   fnlwgt          9769 non-null   int64 \n",
      " 4   education       9769 non-null   object\n",
      " 5   education-num   9769 non-null   int64 \n",
      " 6   marital-status  9769 non-null   int64 \n",
      " 7   occupation      9769 non-null   int64 \n",
      " 8   relationship    9769 non-null   int64 \n",
      " 9   race            9769 non-null   int64 \n",
      " 10  sex             9769 non-null   int64 \n",
      " 11  capital-gain    9769 non-null   int64 \n",
      " 12  capital-loss    9769 non-null   int64 \n",
      " 13  hours-per-week  9769 non-null   int64 \n",
      " 14  native-country  9769 non-null   int64 \n",
      "dtypes: int64(14), object(1)\n",
      "memory usage: 1.1+ MB\n"
     ]
    }
   ],
   "source": [
    "# check data types\n",
    "test_mapped_fin.info()"
   ]
  },
  {
   "cell_type": "markdown",
   "id": "b1cd7282",
   "metadata": {
    "papermill": {
     "duration": 0.033655,
     "end_time": "2023-07-27T04:16:18.273129",
     "exception": false,
     "start_time": "2023-07-27T04:16:18.239474",
     "status": "completed"
    },
    "tags": []
   },
   "source": [
    "## Feature Engineering\n",
    "- A new column 'net-capital-gains' was created by subtracting 'capital-loss' from 'capital-gains'"
   ]
  },
  {
   "cell_type": "code",
   "execution_count": 49,
   "id": "c6d0685f",
   "metadata": {
    "execution": {
     "iopub.execute_input": "2023-07-27T04:16:18.343638Z",
     "iopub.status.busy": "2023-07-27T04:16:18.341952Z",
     "iopub.status.idle": "2023-07-27T04:16:18.350186Z",
     "shell.execute_reply": "2023-07-27T04:16:18.348478Z"
    },
    "papermill": {
     "duration": 0.046501,
     "end_time": "2023-07-27T04:16:18.352870",
     "exception": false,
     "start_time": "2023-07-27T04:16:18.306369",
     "status": "completed"
    },
    "tags": []
   },
   "outputs": [],
   "source": [
    "# Create a new column 'net-capital-gains' by subtracting 'capital-loss' from 'capital-gains'\n",
    "test_mapped_fin['net-capital-gains'] = test_mapped_fin['capital-gain'] - test_mapped_fin['capital-loss']"
   ]
  },
  {
   "cell_type": "markdown",
   "id": "85403362",
   "metadata": {
    "papermill": {
     "duration": 0.033127,
     "end_time": "2023-07-27T04:16:18.419360",
     "exception": false,
     "start_time": "2023-07-27T04:16:18.386233",
     "status": "completed"
    },
    "tags": []
   },
   "source": [
    "## X-matrix\n",
    "#### The X-matrix has to match the training dataset"
   ]
  },
  {
   "cell_type": "code",
   "execution_count": 50,
   "id": "b545981b",
   "metadata": {
    "execution": {
     "iopub.execute_input": "2023-07-27T04:16:18.489787Z",
     "iopub.status.busy": "2023-07-27T04:16:18.489222Z",
     "iopub.status.idle": "2023-07-27T04:16:18.499139Z",
     "shell.execute_reply": "2023-07-27T04:16:18.498263Z"
    },
    "papermill": {
     "duration": 0.048495,
     "end_time": "2023-07-27T04:16:18.501269",
     "exception": false,
     "start_time": "2023-07-27T04:16:18.452774",
     "status": "completed"
    },
    "tags": []
   },
   "outputs": [
    {
     "data": {
      "text/plain": [
       "(9769, 9)"
      ]
     },
     "execution_count": 50,
     "metadata": {},
     "output_type": "execute_result"
    }
   ],
   "source": [
    "# Data Preparation\n",
    "X_fin = test_mapped_fin.drop(['ID', 'education', 'fnlwgt', 'race', 'native-country', 'capital-loss', 'capital-gain'], axis=1)\n",
    "\n",
    "# Preview the data\n",
    "X_fin.shape"
   ]
  },
  {
   "cell_type": "code",
   "execution_count": 51,
   "id": "90fba7e6",
   "metadata": {
    "execution": {
     "iopub.execute_input": "2023-07-27T04:16:18.573082Z",
     "iopub.status.busy": "2023-07-27T04:16:18.572002Z",
     "iopub.status.idle": "2023-07-27T04:16:18.585398Z",
     "shell.execute_reply": "2023-07-27T04:16:18.584430Z"
    },
    "papermill": {
     "duration": 0.052469,
     "end_time": "2023-07-27T04:16:18.588245",
     "exception": false,
     "start_time": "2023-07-27T04:16:18.535776",
     "status": "completed"
    },
    "tags": []
   },
   "outputs": [
    {
     "data": {
      "text/html": [
       "<div>\n",
       "<style scoped>\n",
       "    .dataframe tbody tr th:only-of-type {\n",
       "        vertical-align: middle;\n",
       "    }\n",
       "\n",
       "    .dataframe tbody tr th {\n",
       "        vertical-align: top;\n",
       "    }\n",
       "\n",
       "    .dataframe thead th {\n",
       "        text-align: right;\n",
       "    }\n",
       "</style>\n",
       "<table border=\"1\" class=\"dataframe\">\n",
       "  <thead>\n",
       "    <tr style=\"text-align: right;\">\n",
       "      <th></th>\n",
       "      <th>age</th>\n",
       "      <th>workclass</th>\n",
       "      <th>education-num</th>\n",
       "      <th>marital-status</th>\n",
       "      <th>occupation</th>\n",
       "      <th>relationship</th>\n",
       "      <th>sex</th>\n",
       "      <th>hours-per-week</th>\n",
       "      <th>net-capital-gains</th>\n",
       "    </tr>\n",
       "  </thead>\n",
       "  <tbody>\n",
       "    <tr>\n",
       "      <th>0</th>\n",
       "      <td>30</td>\n",
       "      <td>4</td>\n",
       "      <td>9</td>\n",
       "      <td>4</td>\n",
       "      <td>7</td>\n",
       "      <td>3</td>\n",
       "      <td>1</td>\n",
       "      <td>40</td>\n",
       "      <td>0</td>\n",
       "    </tr>\n",
       "    <tr>\n",
       "      <th>1</th>\n",
       "      <td>54</td>\n",
       "      <td>7</td>\n",
       "      <td>12</td>\n",
       "      <td>0</td>\n",
       "      <td>1</td>\n",
       "      <td>1</td>\n",
       "      <td>1</td>\n",
       "      <td>39</td>\n",
       "      <td>0</td>\n",
       "    </tr>\n",
       "    <tr>\n",
       "      <th>2</th>\n",
       "      <td>21</td>\n",
       "      <td>0</td>\n",
       "      <td>10</td>\n",
       "      <td>4</td>\n",
       "      <td>0</td>\n",
       "      <td>4</td>\n",
       "      <td>0</td>\n",
       "      <td>35</td>\n",
       "      <td>0</td>\n",
       "    </tr>\n",
       "    <tr>\n",
       "      <th>3</th>\n",
       "      <td>35</td>\n",
       "      <td>4</td>\n",
       "      <td>9</td>\n",
       "      <td>2</td>\n",
       "      <td>7</td>\n",
       "      <td>0</td>\n",
       "      <td>1</td>\n",
       "      <td>40</td>\n",
       "      <td>2885</td>\n",
       "    </tr>\n",
       "    <tr>\n",
       "      <th>4</th>\n",
       "      <td>42</td>\n",
       "      <td>2</td>\n",
       "      <td>10</td>\n",
       "      <td>2</td>\n",
       "      <td>4</td>\n",
       "      <td>0</td>\n",
       "      <td>1</td>\n",
       "      <td>45</td>\n",
       "      <td>0</td>\n",
       "    </tr>\n",
       "  </tbody>\n",
       "</table>\n",
       "</div>"
      ],
      "text/plain": [
       "   age  workclass  education-num  marital-status  occupation  relationship  \\\n",
       "0   30          4              9               4           7             3   \n",
       "1   54          7             12               0           1             1   \n",
       "2   21          0             10               4           0             4   \n",
       "3   35          4              9               2           7             0   \n",
       "4   42          2             10               2           4             0   \n",
       "\n",
       "   sex  hours-per-week  net-capital-gains  \n",
       "0    1              40                  0  \n",
       "1    1              39                  0  \n",
       "2    0              35                  0  \n",
       "3    1              40               2885  \n",
       "4    1              45                  0  "
      ]
     },
     "execution_count": 51,
     "metadata": {},
     "output_type": "execute_result"
    }
   ],
   "source": [
    "# Preview the X-matrix after preparation\n",
    "X_fin.head()"
   ]
  },
  {
   "cell_type": "markdown",
   "id": "725481d9",
   "metadata": {
    "papermill": {
     "duration": 0.035175,
     "end_time": "2023-07-27T04:16:18.659594",
     "exception": false,
     "start_time": "2023-07-27T04:16:18.624419",
     "status": "completed"
    },
    "tags": []
   },
   "source": [
    "## Feature Scaling"
   ]
  },
  {
   "cell_type": "code",
   "execution_count": 52,
   "id": "ef30976f",
   "metadata": {
    "execution": {
     "iopub.execute_input": "2023-07-27T04:16:18.733414Z",
     "iopub.status.busy": "2023-07-27T04:16:18.733014Z",
     "iopub.status.idle": "2023-07-27T04:16:18.741935Z",
     "shell.execute_reply": "2023-07-27T04:16:18.740608Z"
    },
    "papermill": {
     "duration": 0.049485,
     "end_time": "2023-07-27T04:16:18.744678",
     "exception": false,
     "start_time": "2023-07-27T04:16:18.695193",
     "status": "completed"
    },
    "tags": []
   },
   "outputs": [],
   "source": [
    "# Feature Scaling\n",
    "X_fin_std = scale.transform(X_fin)"
   ]
  },
  {
   "cell_type": "markdown",
   "id": "341d18c5",
   "metadata": {
    "papermill": {
     "duration": 0.035943,
     "end_time": "2023-07-27T04:16:18.818345",
     "exception": false,
     "start_time": "2023-07-27T04:16:18.782402",
     "status": "completed"
    },
    "tags": []
   },
   "source": [
    "## Gradient Boosting\n",
    "#### Overall, Gradient Boosting is a versatile and reliable choice for classification tasks due to its ability to handle complex relationships, provide accurate predictions, and produce feature importance scores. Its robustness to outliers, and reduce overfitting makes it well-suited for predicting income levels accurately. However, it might require more careful tuning of hyperparameters compared to simpler models.\n",
    "#### The XGBoost algorithm improves the way that splits are calculated after the first step. To make better decisions more data is added to help subsequent models. Moreover, the algorithm is able to skip records missing values, ending in nearly linear performance on the feature without missing values."
   ]
  },
  {
   "cell_type": "code",
   "execution_count": 53,
   "id": "45b8f9d3",
   "metadata": {
    "execution": {
     "iopub.execute_input": "2023-07-27T04:16:18.894252Z",
     "iopub.status.busy": "2023-07-27T04:16:18.893798Z",
     "iopub.status.idle": "2023-07-27T04:16:18.913881Z",
     "shell.execute_reply": "2023-07-27T04:16:18.912936Z"
    },
    "papermill": {
     "duration": 0.06107,
     "end_time": "2023-07-27T04:16:18.916862",
     "exception": false,
     "start_time": "2023-07-27T04:16:18.855792",
     "status": "completed"
    },
    "tags": []
   },
   "outputs": [],
   "source": [
    "# Gradient Boosting\n",
    "# Make predictions on the test set\n",
    "final_predictions = xg_tune.predict(X_fin_std)"
   ]
  },
  {
   "cell_type": "markdown",
   "id": "1260ba6f",
   "metadata": {
    "papermill": {
     "duration": 0.034336,
     "end_time": "2023-07-27T04:16:18.987403",
     "exception": false,
     "start_time": "2023-07-27T04:16:18.953067",
     "status": "completed"
    },
    "tags": []
   },
   "source": [
    "## DataFrame for Submission"
   ]
  },
  {
   "cell_type": "code",
   "execution_count": 54,
   "id": "62eac9da",
   "metadata": {
    "execution": {
     "iopub.execute_input": "2023-07-27T04:16:19.065116Z",
     "iopub.status.busy": "2023-07-27T04:16:19.064638Z",
     "iopub.status.idle": "2023-07-27T04:16:19.096903Z",
     "shell.execute_reply": "2023-07-27T04:16:19.095952Z"
    },
    "papermill": {
     "duration": 0.072293,
     "end_time": "2023-07-27T04:16:19.100124",
     "exception": false,
     "start_time": "2023-07-27T04:16:19.027831",
     "status": "completed"
    },
    "tags": []
   },
   "outputs": [],
   "source": [
    "# Create a DataFrame for submission\n",
    "output = pd.DataFrame({'ID': test_data['ID'], 'Income': final_predictions})\n",
    "\n",
    "# Write the DataFrame to a csv file\n",
    "output.to_csv('submission.csv', index=False)\n"
   ]
  }
 ],
 "metadata": {
  "kernelspec": {
   "display_name": "Python 3",
   "language": "python",
   "name": "python3"
  },
  "language_info": {
   "codemirror_mode": {
    "name": "ipython",
    "version": 3
   },
   "file_extension": ".py",
   "mimetype": "text/x-python",
   "name": "python",
   "nbconvert_exporter": "python",
   "pygments_lexer": "ipython3",
   "version": "3.10.12"
  },
  "papermill": {
   "default_parameters": {},
   "duration": 87.455068,
   "end_time": "2023-07-27T04:16:20.465759",
   "environment_variables": {},
   "exception": null,
   "input_path": "__notebook__.ipynb",
   "output_path": "__notebook__.ipynb",
   "parameters": {},
   "start_time": "2023-07-27T04:14:53.010691",
   "version": "2.4.0"
  }
 },
 "nbformat": 4,
 "nbformat_minor": 5
}
